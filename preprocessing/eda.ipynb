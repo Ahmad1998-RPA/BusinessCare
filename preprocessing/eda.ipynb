{
 "cells": [
  {
   "cell_type": "markdown",
   "metadata": {},
   "source": [
    "# Getting input data and exploring to show in Web App"
   ]
  },
  {
   "cell_type": "code",
   "execution_count": 1,
   "metadata": {},
   "outputs": [],
   "source": [
    "# Importing libraries\n",
    "import pandas as pd\n",
    "import numpy as np\n",
    "import seaborn as sns\n",
    "import matplotlib.pyplot as plt"
   ]
  },
  {
   "cell_type": "code",
   "execution_count": 86,
   "metadata": {},
   "outputs": [
    {
     "data": {
      "text/html": [
       "<div>\n",
       "<style scoped>\n",
       "    .dataframe tbody tr th:only-of-type {\n",
       "        vertical-align: middle;\n",
       "    }\n",
       "\n",
       "    .dataframe tbody tr th {\n",
       "        vertical-align: top;\n",
       "    }\n",
       "\n",
       "    .dataframe thead th {\n",
       "        text-align: right;\n",
       "    }\n",
       "</style>\n",
       "<table border=\"1\" class=\"dataframe\">\n",
       "  <thead>\n",
       "    <tr style=\"text-align: right;\">\n",
       "      <th></th>\n",
       "      <th>EVALUATION_ID</th>\n",
       "      <th>RECORD_ID</th>\n",
       "      <th>Csat_Score</th>\n",
       "      <th>User_ID</th>\n",
       "      <th>Contact_Number</th>\n",
       "      <th>Comments</th>\n",
       "      <th>Agent_Name</th>\n",
       "      <th>Officer_Name</th>\n",
       "      <th>SITE</th>\n",
       "      <th>Source</th>\n",
       "      <th>...</th>\n",
       "      <th>Sub_Segment</th>\n",
       "      <th>Product</th>\n",
       "      <th>Action_Status</th>\n",
       "      <th>ACPT_Secondary</th>\n",
       "      <th>SCIM_Usage</th>\n",
       "      <th>Referance_Type</th>\n",
       "      <th>Referance_No</th>\n",
       "      <th>Audit Date</th>\n",
       "      <th>Tag</th>\n",
       "      <th>Sub Tag</th>\n",
       "    </tr>\n",
       "  </thead>\n",
       "  <tbody>\n",
       "    <tr>\n",
       "      <th>0</th>\n",
       "      <td>5688761</td>\n",
       "      <td>yebaid_ETIST_EGEGS_52333_01012022_134709_00103...</td>\n",
       "      <td>1</td>\n",
       "      <td>yebaid</td>\n",
       "      <td>567830230.0</td>\n",
       "      <td>AGNEXT:Agent Extension: 0567830230|UCID:000021...</td>\n",
       "      <td>Yasser abdelfatah zakaria ebaid</td>\n",
       "      <td>Nada El Noubi</td>\n",
       "      <td>EGS</td>\n",
       "      <td>C-Sat</td>\n",
       "      <td>...</td>\n",
       "      <td>Gold</td>\n",
       "      <td>GSM Post Paid</td>\n",
       "      <td>Completed</td>\n",
       "      <td>NaN</td>\n",
       "      <td>NaN</td>\n",
       "      <td>Order Ticket</td>\n",
       "      <td>TKT-20211230-00395</td>\n",
       "      <td>2022</td>\n",
       "      <td>Order Porcessing Related</td>\n",
       "      <td>Order-  Customer not Happy with ORD SLA</td>\n",
       "    </tr>\n",
       "    <tr>\n",
       "      <th>1</th>\n",
       "      <td>5688778</td>\n",
       "      <td>vkanhirasseri_ETIST_INCXB_25108_01012022_14240...</td>\n",
       "      <td>1</td>\n",
       "      <td>vkanhirasseri</td>\n",
       "      <td>582514788.0</td>\n",
       "      <td>AGNEXT:Agent Extension: 0582514788|UCID:000020...</td>\n",
       "      <td>Varsha kanhirasseri</td>\n",
       "      <td>Sarath</td>\n",
       "      <td>CNX</td>\n",
       "      <td>C-Sat</td>\n",
       "      <td>...</td>\n",
       "      <td>Gold</td>\n",
       "      <td>GSM Post Paid</td>\n",
       "      <td>No Action Required</td>\n",
       "      <td>NaN</td>\n",
       "      <td>YES</td>\n",
       "      <td>NaN</td>\n",
       "      <td>Not Applicable</td>\n",
       "      <td>2022</td>\n",
       "      <td>Billing Related</td>\n",
       "      <td>Billing-Dunning Related</td>\n",
       "    </tr>\n",
       "    <tr>\n",
       "      <th>2</th>\n",
       "      <td>5688781</td>\n",
       "      <td>vkanhirasseri_ETIST_INCXB_25108_01012022_14414...</td>\n",
       "      <td>1</td>\n",
       "      <td>vkanhirasseri</td>\n",
       "      <td>565268200.0</td>\n",
       "      <td>AGNEXT:Agent Extension: 0565268200|UCID:000020...</td>\n",
       "      <td>Varsha kanhirasseri</td>\n",
       "      <td>Sarath</td>\n",
       "      <td>CNX</td>\n",
       "      <td>C-Sat</td>\n",
       "      <td>...</td>\n",
       "      <td>Gold</td>\n",
       "      <td>GSM Post Paid</td>\n",
       "      <td>Completed</td>\n",
       "      <td>NaN</td>\n",
       "      <td>NO</td>\n",
       "      <td>NaN</td>\n",
       "      <td>Not Applicable</td>\n",
       "      <td>2022</td>\n",
       "      <td>Business care- Agent Mistake</td>\n",
       "      <td>Agent wrong resolution/wrong action</td>\n",
       "    </tr>\n",
       "    <tr>\n",
       "      <th>3</th>\n",
       "      <td>5689258</td>\n",
       "      <td>ezabdelrahman_ETIST_EGEGS_14875_01022022_12245...</td>\n",
       "      <td>1</td>\n",
       "      <td>ezabdelrahman</td>\n",
       "      <td>503060232.0</td>\n",
       "      <td>AGNEXT:Agent Extension: 0503060232|UCID:000020...</td>\n",
       "      <td>Ezzat abdelrahman yousif mohamed</td>\n",
       "      <td>Sameh Salah</td>\n",
       "      <td>EGS</td>\n",
       "      <td>C-Sat</td>\n",
       "      <td>...</td>\n",
       "      <td>Gold</td>\n",
       "      <td>PABX Lines</td>\n",
       "      <td>No Action Required</td>\n",
       "      <td>NaN</td>\n",
       "      <td>NaN</td>\n",
       "      <td>NaN</td>\n",
       "      <td>NaN</td>\n",
       "      <td>2022</td>\n",
       "      <td>Order Porcessing Related</td>\n",
       "      <td>Order - Delay in updating company documents</td>\n",
       "    </tr>\n",
       "    <tr>\n",
       "      <th>4</th>\n",
       "      <td>5689309</td>\n",
       "      <td>ravinod_ETIST_INCXB_25143_01022022_134841_0002...</td>\n",
       "      <td>2</td>\n",
       "      <td>ravinod</td>\n",
       "      <td>569966929.0</td>\n",
       "      <td>AGNEXT:Agent Extension: 0569966929|UCID:000020...</td>\n",
       "      <td>Rakshitha Vinod</td>\n",
       "      <td>Hariesh</td>\n",
       "      <td>CNX</td>\n",
       "      <td>C-Sat</td>\n",
       "      <td>...</td>\n",
       "      <td>Gold</td>\n",
       "      <td>GSM Post Paid</td>\n",
       "      <td>Completed</td>\n",
       "      <td>NaN</td>\n",
       "      <td>Not Applicable</td>\n",
       "      <td>NaN</td>\n",
       "      <td>Not Applicable</td>\n",
       "      <td>2022</td>\n",
       "      <td>Business care- Agent Mistake</td>\n",
       "      <td>Agent wrong resolution/wrong action</td>\n",
       "    </tr>\n",
       "  </tbody>\n",
       "</table>\n",
       "<p>5 rows × 36 columns</p>\n",
       "</div>"
      ],
      "text/plain": [
       "   EVALUATION_ID                                          RECORD_ID  \\\n",
       "0        5688761  yebaid_ETIST_EGEGS_52333_01012022_134709_00103...   \n",
       "1        5688778  vkanhirasseri_ETIST_INCXB_25108_01012022_14240...   \n",
       "2        5688781  vkanhirasseri_ETIST_INCXB_25108_01012022_14414...   \n",
       "3        5689258  ezabdelrahman_ETIST_EGEGS_14875_01022022_12245...   \n",
       "4        5689309  ravinod_ETIST_INCXB_25143_01022022_134841_0002...   \n",
       "\n",
       "   Csat_Score        User_ID  Contact_Number  \\\n",
       "0           1         yebaid     567830230.0   \n",
       "1           1  vkanhirasseri     582514788.0   \n",
       "2           1  vkanhirasseri     565268200.0   \n",
       "3           1  ezabdelrahman     503060232.0   \n",
       "4           2        ravinod     569966929.0   \n",
       "\n",
       "                                            Comments  \\\n",
       "0  AGNEXT:Agent Extension: 0567830230|UCID:000021...   \n",
       "1  AGNEXT:Agent Extension: 0582514788|UCID:000020...   \n",
       "2  AGNEXT:Agent Extension: 0565268200|UCID:000020...   \n",
       "3  AGNEXT:Agent Extension: 0503060232|UCID:000020...   \n",
       "4  AGNEXT:Agent Extension: 0569966929|UCID:000020...   \n",
       "\n",
       "                         Agent_Name   Officer_Name SITE Source  ...  \\\n",
       "0   Yasser abdelfatah zakaria ebaid  Nada El Noubi  EGS  C-Sat  ...   \n",
       "1               Varsha kanhirasseri         Sarath  CNX  C-Sat  ...   \n",
       "2               Varsha kanhirasseri         Sarath  CNX  C-Sat  ...   \n",
       "3  Ezzat abdelrahman yousif mohamed    Sameh Salah  EGS  C-Sat  ...   \n",
       "4                   Rakshitha Vinod        Hariesh  CNX  C-Sat  ...   \n",
       "\n",
       "  Sub_Segment        Product       Action_Status ACPT_Secondary  \\\n",
       "0        Gold  GSM Post Paid           Completed            NaN   \n",
       "1        Gold  GSM Post Paid  No Action Required            NaN   \n",
       "2        Gold  GSM Post Paid           Completed            NaN   \n",
       "3        Gold     PABX Lines  No Action Required            NaN   \n",
       "4        Gold  GSM Post Paid           Completed            NaN   \n",
       "\n",
       "       SCIM_Usage Referance_Type        Referance_No Audit Date  \\\n",
       "0             NaN   Order Ticket  TKT-20211230-00395       2022   \n",
       "1             YES            NaN      Not Applicable       2022   \n",
       "2              NO            NaN      Not Applicable       2022   \n",
       "3             NaN            NaN                 NaN       2022   \n",
       "4  Not Applicable            NaN      Not Applicable       2022   \n",
       "\n",
       "                            Tag                                      Sub Tag  \n",
       "0      Order Porcessing Related      Order-  Customer not Happy with ORD SLA  \n",
       "1               Billing Related                      Billing-Dunning Related  \n",
       "2  Business care- Agent Mistake          Agent wrong resolution/wrong action  \n",
       "3      Order Porcessing Related  Order - Delay in updating company documents  \n",
       "4  Business care- Agent Mistake          Agent wrong resolution/wrong action  \n",
       "\n",
       "[5 rows x 36 columns]"
      ]
     },
     "execution_count": 86,
     "metadata": {},
     "output_type": "execute_result"
    }
   ],
   "source": [
    "df = pd.read_excel(\"inputdata.xlsx\")\n",
    "df.head(5)"
   ]
  },
  {
   "cell_type": "code",
   "execution_count": 87,
   "metadata": {},
   "outputs": [
    {
     "name": "stdout",
     "output_type": "stream",
     "text": [
      "<class 'pandas.core.frame.DataFrame'>\n",
      "RangeIndex: 5797 entries, 0 to 5796\n",
      "Data columns (total 36 columns):\n",
      " #   Column          Non-Null Count  Dtype  \n",
      "---  ------          --------------  -----  \n",
      " 0   EVALUATION_ID   5797 non-null   int64  \n",
      " 1   RECORD_ID       5797 non-null   object \n",
      " 2   Csat_Score      5797 non-null   int64  \n",
      " 3   User_ID         5797 non-null   object \n",
      " 4   Contact_Number  5793 non-null   float64\n",
      " 5   Comments        5783 non-null   object \n",
      " 6   Agent_Name      5756 non-null   object \n",
      " 7   Officer_Name    5797 non-null   object \n",
      " 8   SITE            5797 non-null   object \n",
      " 9   Source          5797 non-null   object \n",
      " 10  EDate           5762 non-null   object \n",
      " 11  ACPT_Category   5797 non-null   object \n",
      " 12  ACPT_Type       5797 non-null   object \n",
      " 13  ACPT_Subtype    5797 non-null   object \n",
      " 14  ACPT_Reason     5797 non-null   object \n",
      " 15  Responsiblity   5797 non-null   object \n",
      " 16  Remarks         5796 non-null   object \n",
      " 17  Update_By       5797 non-null   object \n",
      " 18  Survey_date     5797 non-null   object \n",
      " 19  Group_Name      3116 non-null   object \n",
      " 20  CWC_Cat         5708 non-null   object \n",
      " 21  CWC_Lvl1        5708 non-null   object \n",
      " 22  CWC_Lvl2        3636 non-null   object \n",
      " 23  CWC_Lvl3        3632 non-null   object \n",
      " 24  Cust_Ac Number  5727 non-null   object \n",
      " 25  Segment         5797 non-null   object \n",
      " 26  Sub_Segment     5797 non-null   object \n",
      " 27  Product         5797 non-null   object \n",
      " 28  Action_Status   5797 non-null   object \n",
      " 29  ACPT_Secondary  890 non-null    object \n",
      " 30  SCIM_Usage      5638 non-null   object \n",
      " 31  Referance_Type  2373 non-null   object \n",
      " 32  Referance_No    5665 non-null   object \n",
      " 33  Audit Date      5797 non-null   int64  \n",
      " 34  Tag             5793 non-null   object \n",
      " 35  Sub Tag         5793 non-null   object \n",
      "dtypes: float64(1), int64(3), object(32)\n",
      "memory usage: 1.6+ MB\n"
     ]
    }
   ],
   "source": [
    "df.info()"
   ]
  },
  {
   "cell_type": "code",
   "execution_count": 88,
   "metadata": {},
   "outputs": [
    {
     "data": {
      "text/plain": [
       "Index(['EVALUATION_ID', 'RECORD_ID', 'Csat_Score', 'User_ID', 'Contact_Number',\n",
       "       'Comments', 'Agent_Name', 'Officer_Name', 'SITE', 'Source', 'EDate',\n",
       "       'ACPT_Category', 'ACPT_Type', 'ACPT_Subtype', 'ACPT_Reason',\n",
       "       'Responsiblity', 'Remarks', 'Update_By', 'Survey_date', 'Group_Name',\n",
       "       'CWC_Cat', 'CWC_Lvl1', 'CWC_Lvl2', 'CWC_Lvl3', 'Cust_Ac Number',\n",
       "       'Segment', 'Sub_Segment', 'Product', 'Action_Status', 'ACPT_Secondary',\n",
       "       'SCIM_Usage', 'Referance_Type', 'Referance_No', 'Audit Date', 'Tag',\n",
       "       'Sub Tag'],\n",
       "      dtype='object')"
      ]
     },
     "execution_count": 88,
     "metadata": {},
     "output_type": "execute_result"
    }
   ],
   "source": [
    "df.columns"
   ]
  },
  {
   "cell_type": "code",
   "execution_count": 89,
   "metadata": {},
   "outputs": [
    {
     "data": {
      "text/plain": [
       "EVALUATION_ID        0\n",
       "RECORD_ID            0\n",
       "Csat_Score           0\n",
       "User_ID              0\n",
       "Contact_Number       4\n",
       "Comments            14\n",
       "Agent_Name          41\n",
       "Officer_Name         0\n",
       "SITE                 0\n",
       "Source               0\n",
       "EDate               35\n",
       "ACPT_Category        0\n",
       "ACPT_Type            0\n",
       "ACPT_Subtype         0\n",
       "ACPT_Reason          0\n",
       "Responsiblity        0\n",
       "Remarks              1\n",
       "Update_By            0\n",
       "Survey_date          0\n",
       "Group_Name        2681\n",
       "CWC_Cat             89\n",
       "CWC_Lvl1            89\n",
       "CWC_Lvl2          2161\n",
       "CWC_Lvl3          2165\n",
       "Cust_Ac Number      70\n",
       "Segment              0\n",
       "Sub_Segment          0\n",
       "Product              0\n",
       "Action_Status        0\n",
       "ACPT_Secondary    4907\n",
       "SCIM_Usage         159\n",
       "Referance_Type    3424\n",
       "Referance_No       132\n",
       "Audit Date           0\n",
       "Tag                  4\n",
       "Sub Tag              4\n",
       "dtype: int64"
      ]
     },
     "execution_count": 89,
     "metadata": {},
     "output_type": "execute_result"
    }
   ],
   "source": [
    "df.isnull().sum()"
   ]
  },
  {
   "cell_type": "code",
   "execution_count": 90,
   "metadata": {},
   "outputs": [
    {
     "name": "stderr",
     "output_type": "stream",
     "text": [
      "C:\\Users\\ahmad\\AppData\\Local\\Temp\\ipykernel_31624\\3697054947.py:15: SettingWithCopyWarning:\n",
      "\n",
      "\n",
      "A value is trying to be set on a copy of a slice from a DataFrame\n",
      "\n",
      "See the caveats in the documentation: https://pandas.pydata.org/pandas-docs/stable/user_guide/indexing.html#returning-a-view-versus-a-copy\n",
      "\n"
     ]
    }
   ],
   "source": [
    "# Convert 'EDate' to datetime, invalid parsing will be set as NaT\n",
    "df['EDate_parsed'] = pd.to_datetime(df['EDate'], errors='coerce')\n",
    "\n",
    "# Find rows where 'EDate' contains integer values (non-dates)\n",
    "invalid_rows = df[df['EDate'].apply(lambda x: isinstance(x, int))]\n",
    "\n",
    "# Count how many rows have integer values in 'EDate'\n",
    "num_invalid_rows = len(invalid_rows)\n",
    "# print(f\"Number of rows with integer values in 'EDate': {num_invalid_rows}\")\n",
    "\n",
    "# Remove rows with integer values in 'EDate'\n",
    "df_cleaned = df[~df['EDate'].apply(lambda x: isinstance(x, int))]\n",
    "\n",
    "# Drop the helper 'EDate_parsed' column (optional)\n",
    "df_cleaned.drop(columns=['EDate_parsed'], inplace=True)\n",
    "\n",
    "# df_cleaned.to_excel('preprocessed_Cleaned_data.xlsx', index=False)"
   ]
  },
  {
   "cell_type": "code",
   "execution_count": 91,
   "metadata": {},
   "outputs": [
    {
     "data": {
      "text/plain": [
       "EVALUATION_ID        0\n",
       "RECORD_ID            0\n",
       "Csat_Score           0\n",
       "User_ID              0\n",
       "Contact_Number       4\n",
       "Comments            14\n",
       "Agent_Name          41\n",
       "Officer_Name         0\n",
       "SITE                 0\n",
       "Source               0\n",
       "EDate               35\n",
       "ACPT_Category        0\n",
       "ACPT_Type            0\n",
       "ACPT_Subtype         0\n",
       "ACPT_Reason          0\n",
       "Responsiblity        0\n",
       "Remarks              1\n",
       "Update_By            0\n",
       "Survey_date          0\n",
       "Group_Name        2664\n",
       "CWC_Cat             89\n",
       "CWC_Lvl1            89\n",
       "CWC_Lvl2          2155\n",
       "CWC_Lvl3          2159\n",
       "Cust_Ac Number      70\n",
       "Segment              0\n",
       "Sub_Segment          0\n",
       "Product              0\n",
       "Action_Status        0\n",
       "ACPT_Secondary    4893\n",
       "SCIM_Usage         159\n",
       "Referance_Type    3413\n",
       "Referance_No       132\n",
       "Audit Date           0\n",
       "Tag                  4\n",
       "Sub Tag              4\n",
       "dtype: int64"
      ]
     },
     "execution_count": 91,
     "metadata": {},
     "output_type": "execute_result"
    }
   ],
   "source": [
    "df_cleaned.isnull().sum()"
   ]
  },
  {
   "cell_type": "code",
   "execution_count": 92,
   "metadata": {},
   "outputs": [],
   "source": [
    "colums_list = ['Agent_Name', 'Officer_Name', 'SITE', 'Source', 'EDate',\n",
    "       'ACPT_Category', 'ACPT_Type', 'ACPT_Subtype', 'ACPT_Reason',\n",
    "       'Responsiblity','Update_By', 'Survey_date', 'Group_Name',\n",
    "       'CWC_Cat', 'CWC_Lvl1', 'CWC_Lvl2', 'CWC_Lvl3',\n",
    "       'Segment', 'Sub_Segment', 'Product', 'Action_Status', 'ACPT_Secondary',\n",
    "       'SCIM_Usage', 'Referance_Type', 'Audit Date', 'Tag',\n",
    "       'Sub Tag']"
   ]
  },
  {
   "cell_type": "code",
   "execution_count": 93,
   "metadata": {},
   "outputs": [],
   "source": [
    "# funtion to replace NaN values with the previous record value (forward fill) or backward fill\n",
    "def fill_null(df, colums_list):\n",
    "    for col_name in colums_list:\n",
    "        df_cleaned[col_name].fillna(method='ffill', inplace=True)\n",
    "        df_cleaned[col_name].fillna(method='bfill', inplace=True)\n",
    "    return df_cleaned"
   ]
  },
  {
   "cell_type": "code",
   "execution_count": 94,
   "metadata": {},
   "outputs": [
    {
     "name": "stderr",
     "output_type": "stream",
     "text": [
      "C:\\Users\\ahmad\\AppData\\Local\\Temp\\ipykernel_31624\\3956045529.py:4: FutureWarning:\n",
      "\n",
      "A value is trying to be set on a copy of a DataFrame or Series through chained assignment using an inplace method.\n",
      "The behavior will change in pandas 3.0. This inplace method will never work because the intermediate object on which we are setting values always behaves as a copy.\n",
      "\n",
      "For example, when doing 'df[col].method(value, inplace=True)', try using 'df.method({col: value}, inplace=True)' or df[col] = df[col].method(value) instead, to perform the operation inplace on the original object.\n",
      "\n",
      "\n",
      "\n",
      "C:\\Users\\ahmad\\AppData\\Local\\Temp\\ipykernel_31624\\3956045529.py:4: FutureWarning:\n",
      "\n",
      "Series.fillna with 'method' is deprecated and will raise in a future version. Use obj.ffill() or obj.bfill() instead.\n",
      "\n",
      "C:\\Users\\ahmad\\AppData\\Local\\Temp\\ipykernel_31624\\3956045529.py:4: SettingWithCopyWarning:\n",
      "\n",
      "\n",
      "A value is trying to be set on a copy of a slice from a DataFrame\n",
      "\n",
      "See the caveats in the documentation: https://pandas.pydata.org/pandas-docs/stable/user_guide/indexing.html#returning-a-view-versus-a-copy\n",
      "\n",
      "C:\\Users\\ahmad\\AppData\\Local\\Temp\\ipykernel_31624\\3956045529.py:5: FutureWarning:\n",
      "\n",
      "Series.fillna with 'method' is deprecated and will raise in a future version. Use obj.ffill() or obj.bfill() instead.\n",
      "\n",
      "C:\\Users\\ahmad\\AppData\\Local\\Temp\\ipykernel_31624\\3956045529.py:5: SettingWithCopyWarning:\n",
      "\n",
      "\n",
      "A value is trying to be set on a copy of a slice from a DataFrame\n",
      "\n",
      "See the caveats in the documentation: https://pandas.pydata.org/pandas-docs/stable/user_guide/indexing.html#returning-a-view-versus-a-copy\n",
      "\n",
      "C:\\Users\\ahmad\\AppData\\Local\\Temp\\ipykernel_31624\\3956045529.py:4: FutureWarning:\n",
      "\n",
      "Downcasting object dtype arrays on .fillna, .ffill, .bfill is deprecated and will change in a future version. Call result.infer_objects(copy=False) instead. To opt-in to the future behavior, set `pd.set_option('future.no_silent_downcasting', True)`\n",
      "\n",
      "C:\\Users\\ahmad\\AppData\\Local\\Temp\\ipykernel_31624\\3956045529.py:5: FutureWarning:\n",
      "\n",
      "A value is trying to be set on a copy of a DataFrame or Series through chained assignment using an inplace method.\n",
      "The behavior will change in pandas 3.0. This inplace method will never work because the intermediate object on which we are setting values always behaves as a copy.\n",
      "\n",
      "For example, when doing 'df[col].method(value, inplace=True)', try using 'df.method({col: value}, inplace=True)' or df[col] = df[col].method(value) instead, to perform the operation inplace on the original object.\n",
      "\n",
      "\n",
      "\n"
     ]
    },
    {
     "data": {
      "text/html": [
       "<div>\n",
       "<style scoped>\n",
       "    .dataframe tbody tr th:only-of-type {\n",
       "        vertical-align: middle;\n",
       "    }\n",
       "\n",
       "    .dataframe tbody tr th {\n",
       "        vertical-align: top;\n",
       "    }\n",
       "\n",
       "    .dataframe thead th {\n",
       "        text-align: right;\n",
       "    }\n",
       "</style>\n",
       "<table border=\"1\" class=\"dataframe\">\n",
       "  <thead>\n",
       "    <tr style=\"text-align: right;\">\n",
       "      <th></th>\n",
       "      <th>EVALUATION_ID</th>\n",
       "      <th>RECORD_ID</th>\n",
       "      <th>Csat_Score</th>\n",
       "      <th>User_ID</th>\n",
       "      <th>Contact_Number</th>\n",
       "      <th>Comments</th>\n",
       "      <th>Agent_Name</th>\n",
       "      <th>Officer_Name</th>\n",
       "      <th>SITE</th>\n",
       "      <th>Source</th>\n",
       "      <th>...</th>\n",
       "      <th>Sub_Segment</th>\n",
       "      <th>Product</th>\n",
       "      <th>Action_Status</th>\n",
       "      <th>ACPT_Secondary</th>\n",
       "      <th>SCIM_Usage</th>\n",
       "      <th>Referance_Type</th>\n",
       "      <th>Referance_No</th>\n",
       "      <th>Audit Date</th>\n",
       "      <th>Tag</th>\n",
       "      <th>Sub Tag</th>\n",
       "    </tr>\n",
       "  </thead>\n",
       "  <tbody>\n",
       "    <tr>\n",
       "      <th>0</th>\n",
       "      <td>5688761</td>\n",
       "      <td>yebaid_ETIST_EGEGS_52333_01012022_134709_00103...</td>\n",
       "      <td>1</td>\n",
       "      <td>yebaid</td>\n",
       "      <td>5.678302e+08</td>\n",
       "      <td>AGNEXT:Agent Extension: 0567830230|UCID:000021...</td>\n",
       "      <td>Yasser abdelfatah zakaria ebaid</td>\n",
       "      <td>Nada El Noubi</td>\n",
       "      <td>EGS</td>\n",
       "      <td>C-Sat</td>\n",
       "      <td>...</td>\n",
       "      <td>Gold</td>\n",
       "      <td>GSM Post Paid</td>\n",
       "      <td>Completed</td>\n",
       "      <td>Agent Related</td>\n",
       "      <td>YES</td>\n",
       "      <td>Order Ticket</td>\n",
       "      <td>TKT-20211230-00395</td>\n",
       "      <td>2022</td>\n",
       "      <td>Order Porcessing Related</td>\n",
       "      <td>Order-  Customer not Happy with ORD SLA</td>\n",
       "    </tr>\n",
       "    <tr>\n",
       "      <th>1</th>\n",
       "      <td>5688778</td>\n",
       "      <td>vkanhirasseri_ETIST_INCXB_25108_01012022_14240...</td>\n",
       "      <td>1</td>\n",
       "      <td>vkanhirasseri</td>\n",
       "      <td>5.825148e+08</td>\n",
       "      <td>AGNEXT:Agent Extension: 0582514788|UCID:000020...</td>\n",
       "      <td>Varsha kanhirasseri</td>\n",
       "      <td>Sarath</td>\n",
       "      <td>CNX</td>\n",
       "      <td>C-Sat</td>\n",
       "      <td>...</td>\n",
       "      <td>Gold</td>\n",
       "      <td>GSM Post Paid</td>\n",
       "      <td>No Action Required</td>\n",
       "      <td>Agent Related</td>\n",
       "      <td>YES</td>\n",
       "      <td>Order Ticket</td>\n",
       "      <td>Not Applicable</td>\n",
       "      <td>2022</td>\n",
       "      <td>Billing Related</td>\n",
       "      <td>Billing-Dunning Related</td>\n",
       "    </tr>\n",
       "    <tr>\n",
       "      <th>2</th>\n",
       "      <td>5688781</td>\n",
       "      <td>vkanhirasseri_ETIST_INCXB_25108_01012022_14414...</td>\n",
       "      <td>1</td>\n",
       "      <td>vkanhirasseri</td>\n",
       "      <td>5.652682e+08</td>\n",
       "      <td>AGNEXT:Agent Extension: 0565268200|UCID:000020...</td>\n",
       "      <td>Varsha kanhirasseri</td>\n",
       "      <td>Sarath</td>\n",
       "      <td>CNX</td>\n",
       "      <td>C-Sat</td>\n",
       "      <td>...</td>\n",
       "      <td>Gold</td>\n",
       "      <td>GSM Post Paid</td>\n",
       "      <td>Completed</td>\n",
       "      <td>Agent Related</td>\n",
       "      <td>NO</td>\n",
       "      <td>Order Ticket</td>\n",
       "      <td>Not Applicable</td>\n",
       "      <td>2022</td>\n",
       "      <td>Business care- Agent Mistake</td>\n",
       "      <td>Agent wrong resolution/wrong action</td>\n",
       "    </tr>\n",
       "    <tr>\n",
       "      <th>3</th>\n",
       "      <td>5689258</td>\n",
       "      <td>ezabdelrahman_ETIST_EGEGS_14875_01022022_12245...</td>\n",
       "      <td>1</td>\n",
       "      <td>ezabdelrahman</td>\n",
       "      <td>5.030602e+08</td>\n",
       "      <td>AGNEXT:Agent Extension: 0503060232|UCID:000020...</td>\n",
       "      <td>Ezzat abdelrahman yousif mohamed</td>\n",
       "      <td>Sameh Salah</td>\n",
       "      <td>EGS</td>\n",
       "      <td>C-Sat</td>\n",
       "      <td>...</td>\n",
       "      <td>Gold</td>\n",
       "      <td>PABX Lines</td>\n",
       "      <td>No Action Required</td>\n",
       "      <td>Agent Related</td>\n",
       "      <td>NO</td>\n",
       "      <td>Order Ticket</td>\n",
       "      <td>NaN</td>\n",
       "      <td>2022</td>\n",
       "      <td>Order Porcessing Related</td>\n",
       "      <td>Order - Delay in updating company documents</td>\n",
       "    </tr>\n",
       "    <tr>\n",
       "      <th>4</th>\n",
       "      <td>5689309</td>\n",
       "      <td>ravinod_ETIST_INCXB_25143_01022022_134841_0002...</td>\n",
       "      <td>2</td>\n",
       "      <td>ravinod</td>\n",
       "      <td>5.699669e+08</td>\n",
       "      <td>AGNEXT:Agent Extension: 0569966929|UCID:000020...</td>\n",
       "      <td>Rakshitha Vinod</td>\n",
       "      <td>Hariesh</td>\n",
       "      <td>CNX</td>\n",
       "      <td>C-Sat</td>\n",
       "      <td>...</td>\n",
       "      <td>Gold</td>\n",
       "      <td>GSM Post Paid</td>\n",
       "      <td>Completed</td>\n",
       "      <td>Agent Related</td>\n",
       "      <td>Not Applicable</td>\n",
       "      <td>Order Ticket</td>\n",
       "      <td>Not Applicable</td>\n",
       "      <td>2022</td>\n",
       "      <td>Business care- Agent Mistake</td>\n",
       "      <td>Agent wrong resolution/wrong action</td>\n",
       "    </tr>\n",
       "    <tr>\n",
       "      <th>...</th>\n",
       "      <td>...</td>\n",
       "      <td>...</td>\n",
       "      <td>...</td>\n",
       "      <td>...</td>\n",
       "      <td>...</td>\n",
       "      <td>...</td>\n",
       "      <td>...</td>\n",
       "      <td>...</td>\n",
       "      <td>...</td>\n",
       "      <td>...</td>\n",
       "      <td>...</td>\n",
       "      <td>...</td>\n",
       "      <td>...</td>\n",
       "      <td>...</td>\n",
       "      <td>...</td>\n",
       "      <td>...</td>\n",
       "      <td>...</td>\n",
       "      <td>...</td>\n",
       "      <td>...</td>\n",
       "      <td>...</td>\n",
       "      <td>...</td>\n",
       "    </tr>\n",
       "    <tr>\n",
       "      <th>5792</th>\n",
       "      <td>10040295871</td>\n",
       "      <td>64a6af10000600000a33bf3223300002</td>\n",
       "      <td>-100</td>\n",
       "      <td>bmercado</td>\n",
       "      <td>9.715081e+11</td>\n",
       "      <td>[n/a]</td>\n",
       "      <td>Reshiell Barnes Mercado</td>\n",
       "      <td>ADEEL RASHEED</td>\n",
       "      <td>Ajman</td>\n",
       "      <td>Etisalat NPS</td>\n",
       "      <td>...</td>\n",
       "      <td>Platinum</td>\n",
       "      <td>GSM Post Paid</td>\n",
       "      <td>In Progress</td>\n",
       "      <td>Business Care Staff</td>\n",
       "      <td>No Screen Recording</td>\n",
       "      <td>Complaint Number</td>\n",
       "      <td>56796465</td>\n",
       "      <td>2023</td>\n",
       "      <td>Technical Related</td>\n",
       "      <td>Technical-Service Went down</td>\n",
       "    </tr>\n",
       "    <tr>\n",
       "      <th>5793</th>\n",
       "      <td>10040295911</td>\n",
       "      <td>64a6e059000400000a33bf3223300002</td>\n",
       "      <td>-100</td>\n",
       "      <td>edcuevas</td>\n",
       "      <td>9.715652e+11</td>\n",
       "      <td>[n/a]</td>\n",
       "      <td>Edward Allan Natividad Cuevas</td>\n",
       "      <td>OSAMA ATWA ABDEL KARIM ABU SHABAB</td>\n",
       "      <td>Ajman</td>\n",
       "      <td>Etisalat NPS</td>\n",
       "      <td>...</td>\n",
       "      <td>ES- Government</td>\n",
       "      <td>GSM Post Paid</td>\n",
       "      <td>In Progress</td>\n",
       "      <td>Business Care Staff</td>\n",
       "      <td>YES</td>\n",
       "      <td>Complaint Number</td>\n",
       "      <td>56798519</td>\n",
       "      <td>2023</td>\n",
       "      <td>System Related</td>\n",
       "      <td>System/Tool Isuue</td>\n",
       "    </tr>\n",
       "    <tr>\n",
       "      <th>5794</th>\n",
       "      <td>10040316512</td>\n",
       "      <td>64ab940e000600000a33bf3223300002</td>\n",
       "      <td>-100</td>\n",
       "      <td>ahyousuf</td>\n",
       "      <td>9.715011e+11</td>\n",
       "      <td>The representative was rude and was not well m...</td>\n",
       "      <td>Ahmad Yousuf</td>\n",
       "      <td>MEHDI SAEID ABOU SALEH</td>\n",
       "      <td>Ajman</td>\n",
       "      <td>Etisalat NPS</td>\n",
       "      <td>...</td>\n",
       "      <td>Platinum</td>\n",
       "      <td>ADSL - Business One</td>\n",
       "      <td>In Progress</td>\n",
       "      <td>Business Care Staff</td>\n",
       "      <td>No Screen Recording</td>\n",
       "      <td>Complaint Number</td>\n",
       "      <td>56817468</td>\n",
       "      <td>2023</td>\n",
       "      <td>Business care- Agent Mistake</td>\n",
       "      <td>Agent Behaviour</td>\n",
       "    </tr>\n",
       "    <tr>\n",
       "      <th>5795</th>\n",
       "      <td>10040324958</td>\n",
       "      <td>64ab00f1000100000a25bf9323360002</td>\n",
       "      <td>-100</td>\n",
       "      <td>ahyousuf</td>\n",
       "      <td>9.715059e+11</td>\n",
       "      <td>[n/a]</td>\n",
       "      <td>Ahmad Yousuf</td>\n",
       "      <td>MEHDI SAEID ABOU SALEH</td>\n",
       "      <td>Ajman</td>\n",
       "      <td>Etisalat NPS</td>\n",
       "      <td>...</td>\n",
       "      <td>ES- Government</td>\n",
       "      <td>GSM Post Paid</td>\n",
       "      <td>In Progress</td>\n",
       "      <td>Business Care Staff</td>\n",
       "      <td>NO</td>\n",
       "      <td>SR Number</td>\n",
       "      <td>1036194365</td>\n",
       "      <td>2023</td>\n",
       "      <td>Deflection and Digital related issues</td>\n",
       "      <td>B2B/Mobile App Issue</td>\n",
       "    </tr>\n",
       "    <tr>\n",
       "      <th>5796</th>\n",
       "      <td>10040341532</td>\n",
       "      <td>64ae7f65000a00000a33bf3223300002</td>\n",
       "      <td>-100</td>\n",
       "      <td>schargui</td>\n",
       "      <td>9.715061e+11</td>\n",
       "      <td>المساعدة الافتراضية مزعجة الخدمات غير منظمة و ...</td>\n",
       "      <td>Sana Chargui</td>\n",
       "      <td>MEHDI SAEID ABOU SALEH</td>\n",
       "      <td>Ajman</td>\n",
       "      <td>Etisalat NPS</td>\n",
       "      <td>...</td>\n",
       "      <td>Gold</td>\n",
       "      <td>Business Pro</td>\n",
       "      <td>In Progress</td>\n",
       "      <td>Customer Related</td>\n",
       "      <td>YES</td>\n",
       "      <td>Complaint Number</td>\n",
       "      <td>56840329</td>\n",
       "      <td>2023</td>\n",
       "      <td>Deflection and Digital related issues</td>\n",
       "      <td>Digital-IVR, VA , Motive</td>\n",
       "    </tr>\n",
       "  </tbody>\n",
       "</table>\n",
       "<p>5780 rows × 36 columns</p>\n",
       "</div>"
      ],
      "text/plain": [
       "      EVALUATION_ID                                          RECORD_ID  \\\n",
       "0           5688761  yebaid_ETIST_EGEGS_52333_01012022_134709_00103...   \n",
       "1           5688778  vkanhirasseri_ETIST_INCXB_25108_01012022_14240...   \n",
       "2           5688781  vkanhirasseri_ETIST_INCXB_25108_01012022_14414...   \n",
       "3           5689258  ezabdelrahman_ETIST_EGEGS_14875_01022022_12245...   \n",
       "4           5689309  ravinod_ETIST_INCXB_25143_01022022_134841_0002...   \n",
       "...             ...                                                ...   \n",
       "5792    10040295871                   64a6af10000600000a33bf3223300002   \n",
       "5793    10040295911                   64a6e059000400000a33bf3223300002   \n",
       "5794    10040316512                   64ab940e000600000a33bf3223300002   \n",
       "5795    10040324958                   64ab00f1000100000a25bf9323360002   \n",
       "5796    10040341532                   64ae7f65000a00000a33bf3223300002   \n",
       "\n",
       "      Csat_Score        User_ID  Contact_Number  \\\n",
       "0              1         yebaid    5.678302e+08   \n",
       "1              1  vkanhirasseri    5.825148e+08   \n",
       "2              1  vkanhirasseri    5.652682e+08   \n",
       "3              1  ezabdelrahman    5.030602e+08   \n",
       "4              2        ravinod    5.699669e+08   \n",
       "...          ...            ...             ...   \n",
       "5792        -100       bmercado    9.715081e+11   \n",
       "5793        -100       edcuevas    9.715652e+11   \n",
       "5794        -100       ahyousuf    9.715011e+11   \n",
       "5795        -100       ahyousuf    9.715059e+11   \n",
       "5796        -100       schargui    9.715061e+11   \n",
       "\n",
       "                                               Comments  \\\n",
       "0     AGNEXT:Agent Extension: 0567830230|UCID:000021...   \n",
       "1     AGNEXT:Agent Extension: 0582514788|UCID:000020...   \n",
       "2     AGNEXT:Agent Extension: 0565268200|UCID:000020...   \n",
       "3     AGNEXT:Agent Extension: 0503060232|UCID:000020...   \n",
       "4     AGNEXT:Agent Extension: 0569966929|UCID:000020...   \n",
       "...                                                 ...   \n",
       "5792                                              [n/a]   \n",
       "5793                                              [n/a]   \n",
       "5794  The representative was rude and was not well m...   \n",
       "5795                                              [n/a]   \n",
       "5796  المساعدة الافتراضية مزعجة الخدمات غير منظمة و ...   \n",
       "\n",
       "                            Agent_Name                       Officer_Name  \\\n",
       "0      Yasser abdelfatah zakaria ebaid                      Nada El Noubi   \n",
       "1                  Varsha kanhirasseri                             Sarath   \n",
       "2                  Varsha kanhirasseri                             Sarath   \n",
       "3     Ezzat abdelrahman yousif mohamed                        Sameh Salah   \n",
       "4                      Rakshitha Vinod                            Hariesh   \n",
       "...                                ...                                ...   \n",
       "5792           Reshiell Barnes Mercado                      ADEEL RASHEED   \n",
       "5793     Edward Allan Natividad Cuevas  OSAMA ATWA ABDEL KARIM ABU SHABAB   \n",
       "5794                      Ahmad Yousuf             MEHDI SAEID ABOU SALEH   \n",
       "5795                      Ahmad Yousuf             MEHDI SAEID ABOU SALEH   \n",
       "5796                      Sana Chargui             MEHDI SAEID ABOU SALEH   \n",
       "\n",
       "       SITE        Source  ...     Sub_Segment              Product  \\\n",
       "0       EGS         C-Sat  ...            Gold        GSM Post Paid   \n",
       "1       CNX         C-Sat  ...            Gold        GSM Post Paid   \n",
       "2       CNX         C-Sat  ...            Gold        GSM Post Paid   \n",
       "3       EGS         C-Sat  ...            Gold           PABX Lines   \n",
       "4       CNX         C-Sat  ...            Gold        GSM Post Paid   \n",
       "...     ...           ...  ...             ...                  ...   \n",
       "5792  Ajman  Etisalat NPS  ...        Platinum        GSM Post Paid   \n",
       "5793  Ajman  Etisalat NPS  ...  ES- Government        GSM Post Paid   \n",
       "5794  Ajman  Etisalat NPS  ...        Platinum  ADSL - Business One   \n",
       "5795  Ajman  Etisalat NPS  ...  ES- Government        GSM Post Paid   \n",
       "5796  Ajman  Etisalat NPS  ...            Gold         Business Pro   \n",
       "\n",
       "           Action_Status       ACPT_Secondary           SCIM_Usage  \\\n",
       "0              Completed        Agent Related                  YES   \n",
       "1     No Action Required        Agent Related                  YES   \n",
       "2              Completed        Agent Related                   NO   \n",
       "3     No Action Required        Agent Related                   NO   \n",
       "4              Completed        Agent Related       Not Applicable   \n",
       "...                  ...                  ...                  ...   \n",
       "5792         In Progress  Business Care Staff  No Screen Recording   \n",
       "5793         In Progress  Business Care Staff                  YES   \n",
       "5794         In Progress  Business Care Staff  No Screen Recording   \n",
       "5795         In Progress  Business Care Staff                   NO   \n",
       "5796         In Progress     Customer Related                  YES   \n",
       "\n",
       "        Referance_Type        Referance_No Audit Date  \\\n",
       "0         Order Ticket  TKT-20211230-00395       2022   \n",
       "1         Order Ticket      Not Applicable       2022   \n",
       "2         Order Ticket      Not Applicable       2022   \n",
       "3         Order Ticket                 NaN       2022   \n",
       "4         Order Ticket      Not Applicable       2022   \n",
       "...                ...                 ...        ...   \n",
       "5792  Complaint Number            56796465       2023   \n",
       "5793  Complaint Number            56798519       2023   \n",
       "5794  Complaint Number            56817468       2023   \n",
       "5795         SR Number          1036194365       2023   \n",
       "5796  Complaint Number            56840329       2023   \n",
       "\n",
       "                                        Tag  \\\n",
       "0                  Order Porcessing Related   \n",
       "1                           Billing Related   \n",
       "2              Business care- Agent Mistake   \n",
       "3                  Order Porcessing Related   \n",
       "4              Business care- Agent Mistake   \n",
       "...                                     ...   \n",
       "5792                      Technical Related   \n",
       "5793                         System Related   \n",
       "5794           Business care- Agent Mistake   \n",
       "5795  Deflection and Digital related issues   \n",
       "5796  Deflection and Digital related issues   \n",
       "\n",
       "                                          Sub Tag  \n",
       "0         Order-  Customer not Happy with ORD SLA  \n",
       "1                         Billing-Dunning Related  \n",
       "2             Agent wrong resolution/wrong action  \n",
       "3     Order - Delay in updating company documents  \n",
       "4             Agent wrong resolution/wrong action  \n",
       "...                                           ...  \n",
       "5792                  Technical-Service Went down  \n",
       "5793                            System/Tool Isuue  \n",
       "5794                              Agent Behaviour  \n",
       "5795                         B2B/Mobile App Issue  \n",
       "5796                     Digital-IVR, VA , Motive  \n",
       "\n",
       "[5780 rows x 36 columns]"
      ]
     },
     "execution_count": 94,
     "metadata": {},
     "output_type": "execute_result"
    }
   ],
   "source": [
    "fill_null(df_cleaned, colums_list)"
   ]
  },
  {
   "cell_type": "code",
   "execution_count": 95,
   "metadata": {},
   "outputs": [],
   "source": [
    "# # Convert 'EDate' to date format\n",
    "# df_cleaned['EDate'] = df_cleaned['EDate'].dt.date\n",
    "# df['EMonth'] = df['EDate'].dt.strftime('%b')\n",
    "\n",
    "# # Extract the year\n",
    "# df['EYear'] = df['EDate'].dt.year"
   ]
  },
  {
   "cell_type": "code",
   "execution_count": 96,
   "metadata": {},
   "outputs": [
    {
     "name": "stderr",
     "output_type": "stream",
     "text": [
      "C:\\Users\\ahmad\\AppData\\Local\\Temp\\ipykernel_31624\\2843260312.py:5: SettingWithCopyWarning:\n",
      "\n",
      "\n",
      "A value is trying to be set on a copy of a slice from a DataFrame.\n",
      "Try using .loc[row_indexer,col_indexer] = value instead\n",
      "\n",
      "See the caveats in the documentation: https://pandas.pydata.org/pandas-docs/stable/user_guide/indexing.html#returning-a-view-versus-a-copy\n",
      "\n",
      "C:\\Users\\ahmad\\AppData\\Local\\Temp\\ipykernel_31624\\2843260312.py:8: SettingWithCopyWarning:\n",
      "\n",
      "\n",
      "A value is trying to be set on a copy of a slice from a DataFrame.\n",
      "Try using .loc[row_indexer,col_indexer] = value instead\n",
      "\n",
      "See the caveats in the documentation: https://pandas.pydata.org/pandas-docs/stable/user_guide/indexing.html#returning-a-view-versus-a-copy\n",
      "\n"
     ]
    }
   ],
   "source": [
    "# Ensure 'EDate' is in datetime format\n",
    "df_cleaned.loc[:, 'EDate'] = pd.to_datetime(df_cleaned['EDate'], errors='coerce').dt.date\n",
    "\n",
    "# Extract month as abbreviated names (Jan, Feb, etc.)\n",
    "df_cleaned.loc[:, 'EMonth'] = pd.to_datetime(df_cleaned['EDate'], errors='coerce').dt.strftime('%b')\n",
    "\n",
    "# Extract the year\n",
    "df_cleaned.loc[:, 'EYear'] = pd.to_datetime(df_cleaned['EDate'], errors='coerce').dt.year\n"
   ]
  },
  {
   "cell_type": "code",
   "execution_count": 61,
   "metadata": {},
   "outputs": [],
   "source": [
    "# df_cleaned.to_excel('preprocessed_data.xlsx', index=False)"
   ]
  },
  {
   "cell_type": "code",
   "execution_count": 101,
   "metadata": {},
   "outputs": [],
   "source": [
    "import plotly.express as px\n",
    "#count= df_cleaned['Action_Status'].count()\n",
    "px.bar(df_cleaned, x='Action_Status', y='EDate', title='Overall Analysis')\n"
   ]
  },
  {
   "cell_type": "code",
   "execution_count": 100,
   "metadata": {},
   "outputs": [],
   "source": [
    "df_grouped = df_cleaned.groupby('Action_Status')['EDate'].count().reset_index()\n",
    "df_grouped.columns = ['Action_Status', 'Count']\n",
    "\n",
    "# Plot the bar chart with count on the y-axis\n",
    "fig = px.bar(df_grouped, x='Action_Status', y='Count', title='Overall Analysis of Action Status')\n",
    "\n",
    "# Display the plot\n",
    "fig.show()"
   ]
  },
  {
   "cell_type": "code",
   "execution_count": 99,
   "metadata": {},
   "outputs": [],
   "source": [
    "# import plotly.io as pio\n",
    "# pio.renderers.default = 'browser'\n",
    "\n",
    "# # Then show your plot as usual\n",
    "# fig.show()\n"
   ]
  },
  {
   "cell_type": "code",
   "execution_count": 2,
   "metadata": {},
   "outputs": [
    {
     "data": {
      "text/html": [
       "<div>\n",
       "<style scoped>\n",
       "    .dataframe tbody tr th:only-of-type {\n",
       "        vertical-align: middle;\n",
       "    }\n",
       "\n",
       "    .dataframe tbody tr th {\n",
       "        vertical-align: top;\n",
       "    }\n",
       "\n",
       "    .dataframe thead th {\n",
       "        text-align: right;\n",
       "    }\n",
       "</style>\n",
       "<table border=\"1\" class=\"dataframe\">\n",
       "  <thead>\n",
       "    <tr style=\"text-align: right;\">\n",
       "      <th></th>\n",
       "      <th>EVALUATION_ID</th>\n",
       "      <th>RECORD_ID</th>\n",
       "      <th>Csat_Score</th>\n",
       "      <th>User_ID</th>\n",
       "      <th>Contact_Number</th>\n",
       "      <th>Comments</th>\n",
       "      <th>Agent_Name</th>\n",
       "      <th>Officer_Name</th>\n",
       "      <th>SITE</th>\n",
       "      <th>Source</th>\n",
       "      <th>...</th>\n",
       "      <th>Action_Status</th>\n",
       "      <th>ACPT_Secondary</th>\n",
       "      <th>SCIM_Usage</th>\n",
       "      <th>Referance_Type</th>\n",
       "      <th>Referance_No</th>\n",
       "      <th>Audit Date</th>\n",
       "      <th>Tag</th>\n",
       "      <th>Sub Tag</th>\n",
       "      <th>EMonth</th>\n",
       "      <th>EYear</th>\n",
       "    </tr>\n",
       "  </thead>\n",
       "  <tbody>\n",
       "    <tr>\n",
       "      <th>0</th>\n",
       "      <td>5688761</td>\n",
       "      <td>yebaid_ETIST_EGEGS_52333_01012022_134709_00103...</td>\n",
       "      <td>1</td>\n",
       "      <td>yebaid</td>\n",
       "      <td>567830230.0</td>\n",
       "      <td>AGNEXT:Agent Extension: 0567830230|UCID:000021...</td>\n",
       "      <td>Yasser abdelfatah zakaria ebaid</td>\n",
       "      <td>Nada El Noubi</td>\n",
       "      <td>EGS</td>\n",
       "      <td>C-Sat</td>\n",
       "      <td>...</td>\n",
       "      <td>Completed</td>\n",
       "      <td>Agent Related</td>\n",
       "      <td>YES</td>\n",
       "      <td>Order Ticket</td>\n",
       "      <td>TKT-20211230-00395</td>\n",
       "      <td>2022</td>\n",
       "      <td>Order Porcessing Related</td>\n",
       "      <td>Order-  Customer not Happy with ORD SLA</td>\n",
       "      <td>Jan</td>\n",
       "      <td>2022</td>\n",
       "    </tr>\n",
       "    <tr>\n",
       "      <th>1</th>\n",
       "      <td>5688778</td>\n",
       "      <td>vkanhirasseri_ETIST_INCXB_25108_01012022_14240...</td>\n",
       "      <td>1</td>\n",
       "      <td>vkanhirasseri</td>\n",
       "      <td>582514788.0</td>\n",
       "      <td>AGNEXT:Agent Extension: 0582514788|UCID:000020...</td>\n",
       "      <td>Varsha kanhirasseri</td>\n",
       "      <td>Sarath</td>\n",
       "      <td>CNX</td>\n",
       "      <td>C-Sat</td>\n",
       "      <td>...</td>\n",
       "      <td>No Action Required</td>\n",
       "      <td>Agent Related</td>\n",
       "      <td>YES</td>\n",
       "      <td>Order Ticket</td>\n",
       "      <td>Not Applicable</td>\n",
       "      <td>2022</td>\n",
       "      <td>Billing Related</td>\n",
       "      <td>Billing-Dunning Related</td>\n",
       "      <td>Jan</td>\n",
       "      <td>2022</td>\n",
       "    </tr>\n",
       "    <tr>\n",
       "      <th>2</th>\n",
       "      <td>5688781</td>\n",
       "      <td>vkanhirasseri_ETIST_INCXB_25108_01012022_14414...</td>\n",
       "      <td>1</td>\n",
       "      <td>vkanhirasseri</td>\n",
       "      <td>565268200.0</td>\n",
       "      <td>AGNEXT:Agent Extension: 0565268200|UCID:000020...</td>\n",
       "      <td>Varsha kanhirasseri</td>\n",
       "      <td>Sarath</td>\n",
       "      <td>CNX</td>\n",
       "      <td>C-Sat</td>\n",
       "      <td>...</td>\n",
       "      <td>Completed</td>\n",
       "      <td>Agent Related</td>\n",
       "      <td>NO</td>\n",
       "      <td>Order Ticket</td>\n",
       "      <td>Not Applicable</td>\n",
       "      <td>2022</td>\n",
       "      <td>Business care- Agent Mistake</td>\n",
       "      <td>Agent wrong resolution/wrong action</td>\n",
       "      <td>Jan</td>\n",
       "      <td>2022</td>\n",
       "    </tr>\n",
       "    <tr>\n",
       "      <th>3</th>\n",
       "      <td>5689258</td>\n",
       "      <td>ezabdelrahman_ETIST_EGEGS_14875_01022022_12245...</td>\n",
       "      <td>1</td>\n",
       "      <td>ezabdelrahman</td>\n",
       "      <td>503060232.0</td>\n",
       "      <td>AGNEXT:Agent Extension: 0503060232|UCID:000020...</td>\n",
       "      <td>Ezzat abdelrahman yousif mohamed</td>\n",
       "      <td>Sameh Salah</td>\n",
       "      <td>EGS</td>\n",
       "      <td>C-Sat</td>\n",
       "      <td>...</td>\n",
       "      <td>No Action Required</td>\n",
       "      <td>Agent Related</td>\n",
       "      <td>NO</td>\n",
       "      <td>Order Ticket</td>\n",
       "      <td>NaN</td>\n",
       "      <td>2022</td>\n",
       "      <td>Order Porcessing Related</td>\n",
       "      <td>Order - Delay in updating company documents</td>\n",
       "      <td>Jan</td>\n",
       "      <td>2022</td>\n",
       "    </tr>\n",
       "    <tr>\n",
       "      <th>4</th>\n",
       "      <td>5689309</td>\n",
       "      <td>ravinod_ETIST_INCXB_25143_01022022_134841_0002...</td>\n",
       "      <td>2</td>\n",
       "      <td>ravinod</td>\n",
       "      <td>569966929.0</td>\n",
       "      <td>AGNEXT:Agent Extension: 0569966929|UCID:000020...</td>\n",
       "      <td>Rakshitha Vinod</td>\n",
       "      <td>Hariesh</td>\n",
       "      <td>CNX</td>\n",
       "      <td>C-Sat</td>\n",
       "      <td>...</td>\n",
       "      <td>Completed</td>\n",
       "      <td>Agent Related</td>\n",
       "      <td>Not Applicable</td>\n",
       "      <td>Order Ticket</td>\n",
       "      <td>Not Applicable</td>\n",
       "      <td>2022</td>\n",
       "      <td>Business care- Agent Mistake</td>\n",
       "      <td>Agent wrong resolution/wrong action</td>\n",
       "      <td>Jan</td>\n",
       "      <td>2022</td>\n",
       "    </tr>\n",
       "  </tbody>\n",
       "</table>\n",
       "<p>5 rows × 38 columns</p>\n",
       "</div>"
      ],
      "text/plain": [
       "   EVALUATION_ID                                          RECORD_ID  \\\n",
       "0        5688761  yebaid_ETIST_EGEGS_52333_01012022_134709_00103...   \n",
       "1        5688778  vkanhirasseri_ETIST_INCXB_25108_01012022_14240...   \n",
       "2        5688781  vkanhirasseri_ETIST_INCXB_25108_01012022_14414...   \n",
       "3        5689258  ezabdelrahman_ETIST_EGEGS_14875_01022022_12245...   \n",
       "4        5689309  ravinod_ETIST_INCXB_25143_01022022_134841_0002...   \n",
       "\n",
       "   Csat_Score        User_ID  Contact_Number  \\\n",
       "0           1         yebaid     567830230.0   \n",
       "1           1  vkanhirasseri     582514788.0   \n",
       "2           1  vkanhirasseri     565268200.0   \n",
       "3           1  ezabdelrahman     503060232.0   \n",
       "4           2        ravinod     569966929.0   \n",
       "\n",
       "                                            Comments  \\\n",
       "0  AGNEXT:Agent Extension: 0567830230|UCID:000021...   \n",
       "1  AGNEXT:Agent Extension: 0582514788|UCID:000020...   \n",
       "2  AGNEXT:Agent Extension: 0565268200|UCID:000020...   \n",
       "3  AGNEXT:Agent Extension: 0503060232|UCID:000020...   \n",
       "4  AGNEXT:Agent Extension: 0569966929|UCID:000020...   \n",
       "\n",
       "                         Agent_Name   Officer_Name SITE Source  ...  \\\n",
       "0   Yasser abdelfatah zakaria ebaid  Nada El Noubi  EGS  C-Sat  ...   \n",
       "1               Varsha kanhirasseri         Sarath  CNX  C-Sat  ...   \n",
       "2               Varsha kanhirasseri         Sarath  CNX  C-Sat  ...   \n",
       "3  Ezzat abdelrahman yousif mohamed    Sameh Salah  EGS  C-Sat  ...   \n",
       "4                   Rakshitha Vinod        Hariesh  CNX  C-Sat  ...   \n",
       "\n",
       "        Action_Status ACPT_Secondary      SCIM_Usage Referance_Type  \\\n",
       "0           Completed  Agent Related             YES   Order Ticket   \n",
       "1  No Action Required  Agent Related             YES   Order Ticket   \n",
       "2           Completed  Agent Related              NO   Order Ticket   \n",
       "3  No Action Required  Agent Related              NO   Order Ticket   \n",
       "4           Completed  Agent Related  Not Applicable   Order Ticket   \n",
       "\n",
       "         Referance_No Audit Date                           Tag  \\\n",
       "0  TKT-20211230-00395       2022      Order Porcessing Related   \n",
       "1      Not Applicable       2022               Billing Related   \n",
       "2      Not Applicable       2022  Business care- Agent Mistake   \n",
       "3                 NaN       2022      Order Porcessing Related   \n",
       "4      Not Applicable       2022  Business care- Agent Mistake   \n",
       "\n",
       "                                       Sub Tag EMonth EYear  \n",
       "0      Order-  Customer not Happy with ORD SLA    Jan  2022  \n",
       "1                      Billing-Dunning Related    Jan  2022  \n",
       "2          Agent wrong resolution/wrong action    Jan  2022  \n",
       "3  Order - Delay in updating company documents    Jan  2022  \n",
       "4          Agent wrong resolution/wrong action    Jan  2022  \n",
       "\n",
       "[5 rows x 38 columns]"
      ]
     },
     "execution_count": 2,
     "metadata": {},
     "output_type": "execute_result"
    }
   ],
   "source": [
    "new_df = pd.read_excel('preprocessed_data.xlsx')\n",
    "new_df.head()"
   ]
  },
  {
   "cell_type": "code",
   "execution_count": 3,
   "metadata": {},
   "outputs": [
    {
     "data": {
      "text/plain": [
       "Index(['EVALUATION_ID', 'RECORD_ID', 'Csat_Score', 'User_ID', 'Contact_Number',\n",
       "       'Comments', 'Agent_Name', 'Officer_Name', 'SITE', 'Source', 'EDate',\n",
       "       'ACPT_Category', 'ACPT_Type', 'ACPT_Subtype', 'ACPT_Reason',\n",
       "       'Responsiblity', 'Remarks', 'Update_By', 'Survey_date', 'Group_Name',\n",
       "       'CWC_Cat', 'CWC_Lvl1', 'CWC_Lvl2', 'CWC_Lvl3', 'Cust_Ac Number',\n",
       "       'Segment', 'Sub_Segment', 'Product', 'Action_Status', 'ACPT_Secondary',\n",
       "       'SCIM_Usage', 'Referance_Type', 'Referance_No', 'Audit Date', 'Tag',\n",
       "       'Sub Tag', 'EMonth', 'EYear'],\n",
       "      dtype='object')"
      ]
     },
     "execution_count": 3,
     "metadata": {},
     "output_type": "execute_result"
    }
   ],
   "source": [
    "new_df.columns"
   ]
  },
  {
   "cell_type": "code",
   "execution_count": 3,
   "metadata": {},
   "outputs": [
    {
     "data": {
      "text/html": [
       "<div>\n",
       "<style scoped>\n",
       "    .dataframe tbody tr th:only-of-type {\n",
       "        vertical-align: middle;\n",
       "    }\n",
       "\n",
       "    .dataframe tbody tr th {\n",
       "        vertical-align: top;\n",
       "    }\n",
       "\n",
       "    .dataframe thead th {\n",
       "        text-align: right;\n",
       "    }\n",
       "</style>\n",
       "<table border=\"1\" class=\"dataframe\">\n",
       "  <thead>\n",
       "    <tr style=\"text-align: right;\">\n",
       "      <th></th>\n",
       "      <th>Csat_Score</th>\n",
       "      <th>User_ID</th>\n",
       "      <th>Agent_Name</th>\n",
       "      <th>Officer_Name</th>\n",
       "      <th>SITE</th>\n",
       "      <th>Source</th>\n",
       "      <th>EDate</th>\n",
       "      <th>ACPT_Category</th>\n",
       "      <th>ACPT_Type</th>\n",
       "      <th>ACPT_Subtype</th>\n",
       "      <th>...</th>\n",
       "      <th>Product</th>\n",
       "      <th>Action_Status</th>\n",
       "      <th>ACPT_Secondary</th>\n",
       "      <th>SCIM_Usage</th>\n",
       "      <th>Referance_Type</th>\n",
       "      <th>Audit Date</th>\n",
       "      <th>Tag</th>\n",
       "      <th>Sub Tag</th>\n",
       "      <th>EMonth</th>\n",
       "      <th>EYear</th>\n",
       "    </tr>\n",
       "  </thead>\n",
       "  <tbody>\n",
       "    <tr>\n",
       "      <th>0</th>\n",
       "      <td>1</td>\n",
       "      <td>yebaid</td>\n",
       "      <td>Yasser abdelfatah zakaria ebaid</td>\n",
       "      <td>Nada El Noubi</td>\n",
       "      <td>EGS</td>\n",
       "      <td>C-Sat</td>\n",
       "      <td>2022-01-01</td>\n",
       "      <td>Customer Related</td>\n",
       "      <td>Customer Related</td>\n",
       "      <td>Customer not Agreeing with the SLA</td>\n",
       "      <td>...</td>\n",
       "      <td>GSM Post Paid</td>\n",
       "      <td>Completed</td>\n",
       "      <td>Agent Related</td>\n",
       "      <td>YES</td>\n",
       "      <td>Order Ticket</td>\n",
       "      <td>2022</td>\n",
       "      <td>Order Porcessing Related</td>\n",
       "      <td>Order-  Customer not Happy with ORD SLA</td>\n",
       "      <td>Jan</td>\n",
       "      <td>2022</td>\n",
       "    </tr>\n",
       "    <tr>\n",
       "      <th>1</th>\n",
       "      <td>1</td>\n",
       "      <td>vkanhirasseri</td>\n",
       "      <td>Varsha kanhirasseri</td>\n",
       "      <td>Sarath</td>\n",
       "      <td>CNX</td>\n",
       "      <td>C-Sat</td>\n",
       "      <td>2022-01-01</td>\n",
       "      <td>Customer Related</td>\n",
       "      <td>Customer Related</td>\n",
       "      <td>Bad debt from Customer side</td>\n",
       "      <td>...</td>\n",
       "      <td>GSM Post Paid</td>\n",
       "      <td>No Action Required</td>\n",
       "      <td>Agent Related</td>\n",
       "      <td>YES</td>\n",
       "      <td>Order Ticket</td>\n",
       "      <td>2022</td>\n",
       "      <td>Billing Related</td>\n",
       "      <td>Billing-Dunning Related</td>\n",
       "      <td>Jan</td>\n",
       "      <td>2022</td>\n",
       "    </tr>\n",
       "    <tr>\n",
       "      <th>2</th>\n",
       "      <td>1</td>\n",
       "      <td>vkanhirasseri</td>\n",
       "      <td>Varsha kanhirasseri</td>\n",
       "      <td>Sarath</td>\n",
       "      <td>CNX</td>\n",
       "      <td>C-Sat</td>\n",
       "      <td>2022-01-01</td>\n",
       "      <td>Agent Related</td>\n",
       "      <td>Inbound Agent mistakes</td>\n",
       "      <td>providing wrong resolution/wrong action</td>\n",
       "      <td>...</td>\n",
       "      <td>GSM Post Paid</td>\n",
       "      <td>Completed</td>\n",
       "      <td>Agent Related</td>\n",
       "      <td>NO</td>\n",
       "      <td>Order Ticket</td>\n",
       "      <td>2022</td>\n",
       "      <td>Business care- Agent Mistake</td>\n",
       "      <td>Agent wrong resolution/wrong action</td>\n",
       "      <td>Jan</td>\n",
       "      <td>2022</td>\n",
       "    </tr>\n",
       "    <tr>\n",
       "      <th>3</th>\n",
       "      <td>1</td>\n",
       "      <td>ezabdelrahman</td>\n",
       "      <td>Ezzat abdelrahman yousif mohamed</td>\n",
       "      <td>Sameh Salah</td>\n",
       "      <td>EGS</td>\n",
       "      <td>C-Sat</td>\n",
       "      <td>2022-01-02</td>\n",
       "      <td>Agent Others</td>\n",
       "      <td>Issue caused by other section</td>\n",
       "      <td>Account modification/service related issue</td>\n",
       "      <td>...</td>\n",
       "      <td>PABX Lines</td>\n",
       "      <td>No Action Required</td>\n",
       "      <td>Agent Related</td>\n",
       "      <td>NO</td>\n",
       "      <td>Order Ticket</td>\n",
       "      <td>2022</td>\n",
       "      <td>Order Porcessing Related</td>\n",
       "      <td>Order - Delay in updating company documents</td>\n",
       "      <td>Jan</td>\n",
       "      <td>2022</td>\n",
       "    </tr>\n",
       "    <tr>\n",
       "      <th>4</th>\n",
       "      <td>2</td>\n",
       "      <td>ravinod</td>\n",
       "      <td>Rakshitha Vinod</td>\n",
       "      <td>Hariesh</td>\n",
       "      <td>CNX</td>\n",
       "      <td>C-Sat</td>\n",
       "      <td>2022-01-02</td>\n",
       "      <td>Agent Related</td>\n",
       "      <td>Inbound Agent mistakes</td>\n",
       "      <td>providing wrong resolution/wrong action</td>\n",
       "      <td>...</td>\n",
       "      <td>GSM Post Paid</td>\n",
       "      <td>Completed</td>\n",
       "      <td>Agent Related</td>\n",
       "      <td>Not Applicable</td>\n",
       "      <td>Order Ticket</td>\n",
       "      <td>2022</td>\n",
       "      <td>Business care- Agent Mistake</td>\n",
       "      <td>Agent wrong resolution/wrong action</td>\n",
       "      <td>Jan</td>\n",
       "      <td>2022</td>\n",
       "    </tr>\n",
       "  </tbody>\n",
       "</table>\n",
       "<p>5 rows × 31 columns</p>\n",
       "</div>"
      ],
      "text/plain": [
       "   Csat_Score        User_ID                        Agent_Name   Officer_Name  \\\n",
       "0           1         yebaid   Yasser abdelfatah zakaria ebaid  Nada El Noubi   \n",
       "1           1  vkanhirasseri               Varsha kanhirasseri         Sarath   \n",
       "2           1  vkanhirasseri               Varsha kanhirasseri         Sarath   \n",
       "3           1  ezabdelrahman  Ezzat abdelrahman yousif mohamed    Sameh Salah   \n",
       "4           2        ravinod                   Rakshitha Vinod        Hariesh   \n",
       "\n",
       "  SITE Source      EDate     ACPT_Category                      ACPT_Type  \\\n",
       "0  EGS  C-Sat 2022-01-01  Customer Related               Customer Related   \n",
       "1  CNX  C-Sat 2022-01-01  Customer Related               Customer Related   \n",
       "2  CNX  C-Sat 2022-01-01     Agent Related         Inbound Agent mistakes   \n",
       "3  EGS  C-Sat 2022-01-02      Agent Others  Issue caused by other section   \n",
       "4  CNX  C-Sat 2022-01-02     Agent Related         Inbound Agent mistakes   \n",
       "\n",
       "                                 ACPT_Subtype  ...        Product  \\\n",
       "0          Customer not Agreeing with the SLA  ...  GSM Post Paid   \n",
       "1                 Bad debt from Customer side  ...  GSM Post Paid   \n",
       "2     providing wrong resolution/wrong action  ...  GSM Post Paid   \n",
       "3  Account modification/service related issue  ...     PABX Lines   \n",
       "4     providing wrong resolution/wrong action  ...  GSM Post Paid   \n",
       "\n",
       "        Action_Status ACPT_Secondary      SCIM_Usage Referance_Type  \\\n",
       "0           Completed  Agent Related             YES   Order Ticket   \n",
       "1  No Action Required  Agent Related             YES   Order Ticket   \n",
       "2           Completed  Agent Related              NO   Order Ticket   \n",
       "3  No Action Required  Agent Related              NO   Order Ticket   \n",
       "4           Completed  Agent Related  Not Applicable   Order Ticket   \n",
       "\n",
       "  Audit Date                           Tag  \\\n",
       "0       2022      Order Porcessing Related   \n",
       "1       2022               Billing Related   \n",
       "2       2022  Business care- Agent Mistake   \n",
       "3       2022      Order Porcessing Related   \n",
       "4       2022  Business care- Agent Mistake   \n",
       "\n",
       "                                       Sub Tag EMonth EYear  \n",
       "0      Order-  Customer not Happy with ORD SLA    Jan  2022  \n",
       "1                      Billing-Dunning Related    Jan  2022  \n",
       "2          Agent wrong resolution/wrong action    Jan  2022  \n",
       "3  Order - Delay in updating company documents    Jan  2022  \n",
       "4          Agent wrong resolution/wrong action    Jan  2022  \n",
       "\n",
       "[5 rows x 31 columns]"
      ]
     },
     "execution_count": 3,
     "metadata": {},
     "output_type": "execute_result"
    }
   ],
   "source": [
    "drop_columns = ['EVALUATION_ID', 'RECORD_ID', 'Contact_Number', 'Comments','Remarks','Cust_Ac Number', 'Referance_No']\n",
    "new_df = new_df.drop(columns=drop_columns)\n",
    "new_df.head()"
   ]
  },
  {
   "cell_type": "code",
   "execution_count": 4,
   "metadata": {},
   "outputs": [
    {
     "data": {
      "text/plain": [
       "5780"
      ]
     },
     "execution_count": 4,
     "metadata": {},
     "output_type": "execute_result"
    }
   ],
   "source": [
    "row_count = new_df.shape[0]\n",
    "row_count"
   ]
  },
  {
   "cell_type": "code",
   "execution_count": 5,
   "metadata": {},
   "outputs": [
    {
     "data": {
      "text/plain": [
       "3385"
      ]
     },
     "execution_count": 5,
     "metadata": {},
     "output_type": "execute_result"
    }
   ],
   "source": [
    "df = new_df[(new_df['Segment'] == \"SMB\") & (new_df['Sub_Segment'] == \"Gold\")]\n",
    "df.shape[0]"
   ]
  },
  {
   "cell_type": "code",
   "execution_count": 2,
   "metadata": {},
   "outputs": [],
   "source": [
    "import plotly.express as px"
   ]
  },
  {
   "cell_type": "code",
   "execution_count": 9,
   "metadata": {},
   "outputs": [
    {
     "data": {
      "application/vnd.plotly.v1+json": {
       "config": {
        "plotlyServerURL": "https://plot.ly"
       },
       "data": [
        {
         "alignmentgroup": "True",
         "hovertemplate": "Action_Status=Completed<br>Date=%{x}<br>Count of Actions=%{y}<extra></extra>",
         "legendgroup": "Completed",
         "marker": {
          "color": "#636efa",
          "pattern": {
           "shape": ""
          }
         },
         "name": "Completed",
         "offsetgroup": "Completed",
         "orientation": "v",
         "showlegend": true,
         "textposition": "auto",
         "type": "bar",
         "x": [
          "2022-01-12",
          "2022-03-03",
          "2022-03-21",
          "2022-03-22",
          "2022-04-19",
          "2022-08-09",
          "2022-09-01",
          "2022-09-07",
          "2022-11-16",
          "2023-03-09",
          "2023-03-15",
          "2023-03-17",
          "2023-03-30",
          "2023-04-02",
          "2023-04-06",
          "2023-04-07",
          "2023-04-26",
          "2023-05-01",
          "2023-05-10",
          "2023-05-19",
          "2023-05-31",
          "2023-06-05",
          "2023-06-23"
         ],
         "xaxis": "x",
         "y": [
          1,
          1,
          1,
          2,
          1,
          1,
          1,
          1,
          1,
          1,
          1,
          1,
          1,
          1,
          1,
          1,
          1,
          3,
          2,
          1,
          2,
          1,
          2
         ],
         "yaxis": "y"
        },
        {
         "alignmentgroup": "True",
         "hovertemplate": "Action_Status=In Progress<br>Date=%{x}<br>Count of Actions=%{y}<extra></extra>",
         "legendgroup": "In Progress",
         "marker": {
          "color": "#EF553B",
          "pattern": {
           "shape": ""
          }
         },
         "name": "In Progress",
         "offsetgroup": "In Progress",
         "orientation": "v",
         "showlegend": true,
         "textposition": "auto",
         "type": "bar",
         "x": [
          "2022-12-16",
          "2022-12-19",
          "2022-12-28",
          "2023-04-11",
          "2023-04-12",
          "2023-04-18",
          "2023-06-26"
         ],
         "xaxis": "x",
         "y": [
          1,
          1,
          1,
          1,
          1,
          1,
          1
         ],
         "yaxis": "y"
        },
        {
         "alignmentgroup": "True",
         "hovertemplate": "Action_Status=No Action Required<br>Date=%{x}<br>Count of Actions=%{y}<extra></extra>",
         "legendgroup": "No Action Required",
         "marker": {
          "color": "#00cc96",
          "pattern": {
           "shape": ""
          }
         },
         "name": "No Action Required",
         "offsetgroup": "No Action Required",
         "orientation": "v",
         "showlegend": true,
         "textposition": "auto",
         "type": "bar",
         "x": [
          "2022-01-26",
          "2022-02-18",
          "2022-02-20",
          "2022-02-26",
          "2022-03-12",
          "2022-07-04",
          "2022-07-13",
          "2022-09-05",
          "2022-11-02",
          "2022-12-07"
         ],
         "xaxis": "x",
         "y": [
          1,
          1,
          1,
          1,
          1,
          1,
          1,
          1,
          1,
          1
         ],
         "yaxis": "y"
        }
       ],
       "layout": {
        "barmode": "group",
        "legend": {
         "title": {
          "text": "Action_Status"
         },
         "tracegroupgap": 0
        },
        "margin": {
         "t": 60
        },
        "template": {
         "data": {
          "bar": [
           {
            "error_x": {
             "color": "#2a3f5f"
            },
            "error_y": {
             "color": "#2a3f5f"
            },
            "marker": {
             "line": {
              "color": "#E5ECF6",
              "width": 0.5
             },
             "pattern": {
              "fillmode": "overlay",
              "size": 10,
              "solidity": 0.2
             }
            },
            "type": "bar"
           }
          ],
          "barpolar": [
           {
            "marker": {
             "line": {
              "color": "#E5ECF6",
              "width": 0.5
             },
             "pattern": {
              "fillmode": "overlay",
              "size": 10,
              "solidity": 0.2
             }
            },
            "type": "barpolar"
           }
          ],
          "carpet": [
           {
            "aaxis": {
             "endlinecolor": "#2a3f5f",
             "gridcolor": "white",
             "linecolor": "white",
             "minorgridcolor": "white",
             "startlinecolor": "#2a3f5f"
            },
            "baxis": {
             "endlinecolor": "#2a3f5f",
             "gridcolor": "white",
             "linecolor": "white",
             "minorgridcolor": "white",
             "startlinecolor": "#2a3f5f"
            },
            "type": "carpet"
           }
          ],
          "choropleth": [
           {
            "colorbar": {
             "outlinewidth": 0,
             "ticks": ""
            },
            "type": "choropleth"
           }
          ],
          "contour": [
           {
            "colorbar": {
             "outlinewidth": 0,
             "ticks": ""
            },
            "colorscale": [
             [
              0,
              "#0d0887"
             ],
             [
              0.1111111111111111,
              "#46039f"
             ],
             [
              0.2222222222222222,
              "#7201a8"
             ],
             [
              0.3333333333333333,
              "#9c179e"
             ],
             [
              0.4444444444444444,
              "#bd3786"
             ],
             [
              0.5555555555555556,
              "#d8576b"
             ],
             [
              0.6666666666666666,
              "#ed7953"
             ],
             [
              0.7777777777777778,
              "#fb9f3a"
             ],
             [
              0.8888888888888888,
              "#fdca26"
             ],
             [
              1,
              "#f0f921"
             ]
            ],
            "type": "contour"
           }
          ],
          "contourcarpet": [
           {
            "colorbar": {
             "outlinewidth": 0,
             "ticks": ""
            },
            "type": "contourcarpet"
           }
          ],
          "heatmap": [
           {
            "colorbar": {
             "outlinewidth": 0,
             "ticks": ""
            },
            "colorscale": [
             [
              0,
              "#0d0887"
             ],
             [
              0.1111111111111111,
              "#46039f"
             ],
             [
              0.2222222222222222,
              "#7201a8"
             ],
             [
              0.3333333333333333,
              "#9c179e"
             ],
             [
              0.4444444444444444,
              "#bd3786"
             ],
             [
              0.5555555555555556,
              "#d8576b"
             ],
             [
              0.6666666666666666,
              "#ed7953"
             ],
             [
              0.7777777777777778,
              "#fb9f3a"
             ],
             [
              0.8888888888888888,
              "#fdca26"
             ],
             [
              1,
              "#f0f921"
             ]
            ],
            "type": "heatmap"
           }
          ],
          "heatmapgl": [
           {
            "colorbar": {
             "outlinewidth": 0,
             "ticks": ""
            },
            "colorscale": [
             [
              0,
              "#0d0887"
             ],
             [
              0.1111111111111111,
              "#46039f"
             ],
             [
              0.2222222222222222,
              "#7201a8"
             ],
             [
              0.3333333333333333,
              "#9c179e"
             ],
             [
              0.4444444444444444,
              "#bd3786"
             ],
             [
              0.5555555555555556,
              "#d8576b"
             ],
             [
              0.6666666666666666,
              "#ed7953"
             ],
             [
              0.7777777777777778,
              "#fb9f3a"
             ],
             [
              0.8888888888888888,
              "#fdca26"
             ],
             [
              1,
              "#f0f921"
             ]
            ],
            "type": "heatmapgl"
           }
          ],
          "histogram": [
           {
            "marker": {
             "pattern": {
              "fillmode": "overlay",
              "size": 10,
              "solidity": 0.2
             }
            },
            "type": "histogram"
           }
          ],
          "histogram2d": [
           {
            "colorbar": {
             "outlinewidth": 0,
             "ticks": ""
            },
            "colorscale": [
             [
              0,
              "#0d0887"
             ],
             [
              0.1111111111111111,
              "#46039f"
             ],
             [
              0.2222222222222222,
              "#7201a8"
             ],
             [
              0.3333333333333333,
              "#9c179e"
             ],
             [
              0.4444444444444444,
              "#bd3786"
             ],
             [
              0.5555555555555556,
              "#d8576b"
             ],
             [
              0.6666666666666666,
              "#ed7953"
             ],
             [
              0.7777777777777778,
              "#fb9f3a"
             ],
             [
              0.8888888888888888,
              "#fdca26"
             ],
             [
              1,
              "#f0f921"
             ]
            ],
            "type": "histogram2d"
           }
          ],
          "histogram2dcontour": [
           {
            "colorbar": {
             "outlinewidth": 0,
             "ticks": ""
            },
            "colorscale": [
             [
              0,
              "#0d0887"
             ],
             [
              0.1111111111111111,
              "#46039f"
             ],
             [
              0.2222222222222222,
              "#7201a8"
             ],
             [
              0.3333333333333333,
              "#9c179e"
             ],
             [
              0.4444444444444444,
              "#bd3786"
             ],
             [
              0.5555555555555556,
              "#d8576b"
             ],
             [
              0.6666666666666666,
              "#ed7953"
             ],
             [
              0.7777777777777778,
              "#fb9f3a"
             ],
             [
              0.8888888888888888,
              "#fdca26"
             ],
             [
              1,
              "#f0f921"
             ]
            ],
            "type": "histogram2dcontour"
           }
          ],
          "mesh3d": [
           {
            "colorbar": {
             "outlinewidth": 0,
             "ticks": ""
            },
            "type": "mesh3d"
           }
          ],
          "parcoords": [
           {
            "line": {
             "colorbar": {
              "outlinewidth": 0,
              "ticks": ""
             }
            },
            "type": "parcoords"
           }
          ],
          "pie": [
           {
            "automargin": true,
            "type": "pie"
           }
          ],
          "scatter": [
           {
            "fillpattern": {
             "fillmode": "overlay",
             "size": 10,
             "solidity": 0.2
            },
            "type": "scatter"
           }
          ],
          "scatter3d": [
           {
            "line": {
             "colorbar": {
              "outlinewidth": 0,
              "ticks": ""
             }
            },
            "marker": {
             "colorbar": {
              "outlinewidth": 0,
              "ticks": ""
             }
            },
            "type": "scatter3d"
           }
          ],
          "scattercarpet": [
           {
            "marker": {
             "colorbar": {
              "outlinewidth": 0,
              "ticks": ""
             }
            },
            "type": "scattercarpet"
           }
          ],
          "scattergeo": [
           {
            "marker": {
             "colorbar": {
              "outlinewidth": 0,
              "ticks": ""
             }
            },
            "type": "scattergeo"
           }
          ],
          "scattergl": [
           {
            "marker": {
             "colorbar": {
              "outlinewidth": 0,
              "ticks": ""
             }
            },
            "type": "scattergl"
           }
          ],
          "scattermapbox": [
           {
            "marker": {
             "colorbar": {
              "outlinewidth": 0,
              "ticks": ""
             }
            },
            "type": "scattermapbox"
           }
          ],
          "scatterpolar": [
           {
            "marker": {
             "colorbar": {
              "outlinewidth": 0,
              "ticks": ""
             }
            },
            "type": "scatterpolar"
           }
          ],
          "scatterpolargl": [
           {
            "marker": {
             "colorbar": {
              "outlinewidth": 0,
              "ticks": ""
             }
            },
            "type": "scatterpolargl"
           }
          ],
          "scatterternary": [
           {
            "marker": {
             "colorbar": {
              "outlinewidth": 0,
              "ticks": ""
             }
            },
            "type": "scatterternary"
           }
          ],
          "surface": [
           {
            "colorbar": {
             "outlinewidth": 0,
             "ticks": ""
            },
            "colorscale": [
             [
              0,
              "#0d0887"
             ],
             [
              0.1111111111111111,
              "#46039f"
             ],
             [
              0.2222222222222222,
              "#7201a8"
             ],
             [
              0.3333333333333333,
              "#9c179e"
             ],
             [
              0.4444444444444444,
              "#bd3786"
             ],
             [
              0.5555555555555556,
              "#d8576b"
             ],
             [
              0.6666666666666666,
              "#ed7953"
             ],
             [
              0.7777777777777778,
              "#fb9f3a"
             ],
             [
              0.8888888888888888,
              "#fdca26"
             ],
             [
              1,
              "#f0f921"
             ]
            ],
            "type": "surface"
           }
          ],
          "table": [
           {
            "cells": {
             "fill": {
              "color": "#EBF0F8"
             },
             "line": {
              "color": "white"
             }
            },
            "header": {
             "fill": {
              "color": "#C8D4E3"
             },
             "line": {
              "color": "white"
             }
            },
            "type": "table"
           }
          ]
         },
         "layout": {
          "annotationdefaults": {
           "arrowcolor": "#2a3f5f",
           "arrowhead": 0,
           "arrowwidth": 1
          },
          "autotypenumbers": "strict",
          "coloraxis": {
           "colorbar": {
            "outlinewidth": 0,
            "ticks": ""
           }
          },
          "colorscale": {
           "diverging": [
            [
             0,
             "#8e0152"
            ],
            [
             0.1,
             "#c51b7d"
            ],
            [
             0.2,
             "#de77ae"
            ],
            [
             0.3,
             "#f1b6da"
            ],
            [
             0.4,
             "#fde0ef"
            ],
            [
             0.5,
             "#f7f7f7"
            ],
            [
             0.6,
             "#e6f5d0"
            ],
            [
             0.7,
             "#b8e186"
            ],
            [
             0.8,
             "#7fbc41"
            ],
            [
             0.9,
             "#4d9221"
            ],
            [
             1,
             "#276419"
            ]
           ],
           "sequential": [
            [
             0,
             "#0d0887"
            ],
            [
             0.1111111111111111,
             "#46039f"
            ],
            [
             0.2222222222222222,
             "#7201a8"
            ],
            [
             0.3333333333333333,
             "#9c179e"
            ],
            [
             0.4444444444444444,
             "#bd3786"
            ],
            [
             0.5555555555555556,
             "#d8576b"
            ],
            [
             0.6666666666666666,
             "#ed7953"
            ],
            [
             0.7777777777777778,
             "#fb9f3a"
            ],
            [
             0.8888888888888888,
             "#fdca26"
            ],
            [
             1,
             "#f0f921"
            ]
           ],
           "sequentialminus": [
            [
             0,
             "#0d0887"
            ],
            [
             0.1111111111111111,
             "#46039f"
            ],
            [
             0.2222222222222222,
             "#7201a8"
            ],
            [
             0.3333333333333333,
             "#9c179e"
            ],
            [
             0.4444444444444444,
             "#bd3786"
            ],
            [
             0.5555555555555556,
             "#d8576b"
            ],
            [
             0.6666666666666666,
             "#ed7953"
            ],
            [
             0.7777777777777778,
             "#fb9f3a"
            ],
            [
             0.8888888888888888,
             "#fdca26"
            ],
            [
             1,
             "#f0f921"
            ]
           ]
          },
          "colorway": [
           "#636efa",
           "#EF553B",
           "#00cc96",
           "#ab63fa",
           "#FFA15A",
           "#19d3f3",
           "#FF6692",
           "#B6E880",
           "#FF97FF",
           "#FECB52"
          ],
          "font": {
           "color": "#2a3f5f"
          },
          "geo": {
           "bgcolor": "white",
           "lakecolor": "white",
           "landcolor": "#E5ECF6",
           "showlakes": true,
           "showland": true,
           "subunitcolor": "white"
          },
          "hoverlabel": {
           "align": "left"
          },
          "hovermode": "closest",
          "mapbox": {
           "style": "light"
          },
          "paper_bgcolor": "white",
          "plot_bgcolor": "#E5ECF6",
          "polar": {
           "angularaxis": {
            "gridcolor": "white",
            "linecolor": "white",
            "ticks": ""
           },
           "bgcolor": "#E5ECF6",
           "radialaxis": {
            "gridcolor": "white",
            "linecolor": "white",
            "ticks": ""
           }
          },
          "scene": {
           "xaxis": {
            "backgroundcolor": "#E5ECF6",
            "gridcolor": "white",
            "gridwidth": 2,
            "linecolor": "white",
            "showbackground": true,
            "ticks": "",
            "zerolinecolor": "white"
           },
           "yaxis": {
            "backgroundcolor": "#E5ECF6",
            "gridcolor": "white",
            "gridwidth": 2,
            "linecolor": "white",
            "showbackground": true,
            "ticks": "",
            "zerolinecolor": "white"
           },
           "zaxis": {
            "backgroundcolor": "#E5ECF6",
            "gridcolor": "white",
            "gridwidth": 2,
            "linecolor": "white",
            "showbackground": true,
            "ticks": "",
            "zerolinecolor": "white"
           }
          },
          "shapedefaults": {
           "line": {
            "color": "#2a3f5f"
           }
          },
          "ternary": {
           "aaxis": {
            "gridcolor": "white",
            "linecolor": "white",
            "ticks": ""
           },
           "baxis": {
            "gridcolor": "white",
            "linecolor": "white",
            "ticks": ""
           },
           "bgcolor": "#E5ECF6",
           "caxis": {
            "gridcolor": "white",
            "linecolor": "white",
            "ticks": ""
           }
          },
          "title": {
           "x": 0.05
          },
          "xaxis": {
           "automargin": true,
           "gridcolor": "white",
           "linecolor": "white",
           "ticks": "",
           "title": {
            "standoff": 15
           },
           "zerolinecolor": "white",
           "zerolinewidth": 2
          },
          "yaxis": {
           "automargin": true,
           "gridcolor": "white",
           "linecolor": "white",
           "ticks": "",
           "title": {
            "standoff": 15
           },
           "zerolinecolor": "white",
           "zerolinewidth": 2
          }
         }
        },
        "title": {
         "text": "Segment Wise Counts",
         "x": 0.5,
         "xanchor": "center",
         "y": 0.9,
         "yanchor": "top"
        },
        "xaxis": {
         "anchor": "y",
         "domain": [
          0,
          1
         ],
         "title": {
          "text": "Date"
         }
        },
        "yaxis": {
         "anchor": "x",
         "domain": [
          0,
          1
         ],
         "title": {
          "text": "Count of Actions"
         }
        }
       }
      }
     },
     "metadata": {},
     "output_type": "display_data"
    }
   ],
   "source": [
    "df = new_df[new_df['Segment'] == \"Consumer\"]\n",
    "        # st.dataframe(df)\n",
    "df_grouped = df.groupby(['Action_Status', df['EDate'].dt.date]).size().reset_index(name='Count')\n",
    "fig = px.bar(df_grouped, x='EDate', y='Count', color='Action_Status',\n",
    "            #  title='Action Status Counts by Date',\n",
    "             labels={'EDate': 'Date', 'Count': 'Count of Actions'},\n",
    "             barmode='group')\n",
    "# Update layout of the plot\n",
    "fig.update_layout( title={'text': \"Segment Wise Counts\", 'y':0.9, 'x':0.5, 'xanchor': 'center', 'yanchor': 'top'})\n",
    "# Show plot in Streamlit\n",
    "fig.show()"
   ]
  },
  {
   "cell_type": "code",
   "execution_count": 14,
   "metadata": {},
   "outputs": [],
   "source": [
    "df_x = new_df[new_df['Csat_Score'] == -100]"
   ]
  },
  {
   "cell_type": "code",
   "execution_count": 15,
   "metadata": {},
   "outputs": [
    {
     "data": {
      "text/html": [
       "<div>\n",
       "<style scoped>\n",
       "    .dataframe tbody tr th:only-of-type {\n",
       "        vertical-align: middle;\n",
       "    }\n",
       "\n",
       "    .dataframe tbody tr th {\n",
       "        vertical-align: top;\n",
       "    }\n",
       "\n",
       "    .dataframe thead th {\n",
       "        text-align: right;\n",
       "    }\n",
       "</style>\n",
       "<table border=\"1\" class=\"dataframe\">\n",
       "  <thead>\n",
       "    <tr style=\"text-align: right;\">\n",
       "      <th></th>\n",
       "      <th>Csat_Score</th>\n",
       "      <th>User_ID</th>\n",
       "      <th>Agent_Name</th>\n",
       "      <th>Officer_Name</th>\n",
       "      <th>SITE</th>\n",
       "      <th>Source</th>\n",
       "      <th>EDate</th>\n",
       "      <th>ACPT_Category</th>\n",
       "      <th>ACPT_Type</th>\n",
       "      <th>ACPT_Subtype</th>\n",
       "      <th>...</th>\n",
       "      <th>Product</th>\n",
       "      <th>Action_Status</th>\n",
       "      <th>ACPT_Secondary</th>\n",
       "      <th>SCIM_Usage</th>\n",
       "      <th>Referance_Type</th>\n",
       "      <th>Audit Date</th>\n",
       "      <th>Tag</th>\n",
       "      <th>Sub Tag</th>\n",
       "      <th>EMonth</th>\n",
       "      <th>EYear</th>\n",
       "    </tr>\n",
       "  </thead>\n",
       "  <tbody>\n",
       "    <tr>\n",
       "      <th>4853</th>\n",
       "      <td>-100</td>\n",
       "      <td>gamaibrahim</td>\n",
       "      <td>Fadia Gamal Talat Ibrahim</td>\n",
       "      <td>Yasmin Magdy</td>\n",
       "      <td>EGS</td>\n",
       "      <td>Channel NPS</td>\n",
       "      <td>2023-05-07</td>\n",
       "      <td>Business care Staff</td>\n",
       "      <td>Inbound Agent mistakes</td>\n",
       "      <td>providing wrong resolution/wrong action</td>\n",
       "      <td>...</td>\n",
       "      <td>GSM Post Paid</td>\n",
       "      <td>Escalated</td>\n",
       "      <td>Technology Related</td>\n",
       "      <td>No Screen Recording</td>\n",
       "      <td>Complaint Number</td>\n",
       "      <td>2023</td>\n",
       "      <td>Business care- Agent Mistake</td>\n",
       "      <td>Agent wrong resolution/wrong action</td>\n",
       "      <td>May</td>\n",
       "      <td>2023</td>\n",
       "    </tr>\n",
       "    <tr>\n",
       "      <th>4854</th>\n",
       "      <td>-100</td>\n",
       "      <td>omneibrahim</td>\n",
       "      <td>Omnia mohamed elsayed ibrahim</td>\n",
       "      <td>Abeer Ramadan</td>\n",
       "      <td>EGS</td>\n",
       "      <td>CFM</td>\n",
       "      <td>2023-05-07</td>\n",
       "      <td>Business care Staff</td>\n",
       "      <td>Inbound Agent mistakes</td>\n",
       "      <td>providing wrong resolution/wrong action</td>\n",
       "      <td>...</td>\n",
       "      <td>GSM Post Paid</td>\n",
       "      <td>In Progress</td>\n",
       "      <td>Technology Related</td>\n",
       "      <td>No Screen Recording</td>\n",
       "      <td>Complaint Number</td>\n",
       "      <td>2023</td>\n",
       "      <td>Business care- Agent Mistake</td>\n",
       "      <td>Agent wrong resolution/wrong action</td>\n",
       "      <td>May</td>\n",
       "      <td>2023</td>\n",
       "    </tr>\n",
       "    <tr>\n",
       "      <th>4855</th>\n",
       "      <td>-100</td>\n",
       "      <td>laswaminathan</td>\n",
       "      <td>Latha Ramakrishnan Swaminathan</td>\n",
       "      <td>Tara Angelee Tampoc</td>\n",
       "      <td>Ajman</td>\n",
       "      <td>CFM</td>\n",
       "      <td>2023-05-07</td>\n",
       "      <td>Process Related</td>\n",
       "      <td>Process Related</td>\n",
       "      <td>OKM / smart CIM need update</td>\n",
       "      <td>...</td>\n",
       "      <td>GSM Post Paid</td>\n",
       "      <td>Completed</td>\n",
       "      <td>Technology Related</td>\n",
       "      <td>No Screen Recording</td>\n",
       "      <td>Complaint Number</td>\n",
       "      <td>2023</td>\n",
       "      <td>Process Related</td>\n",
       "      <td>Business Care processes</td>\n",
       "      <td>May</td>\n",
       "      <td>2023</td>\n",
       "    </tr>\n",
       "    <tr>\n",
       "      <th>4856</th>\n",
       "      <td>-100</td>\n",
       "      <td>ashfarghal</td>\n",
       "      <td>Karim Ashraf Mabrok Farghal</td>\n",
       "      <td>Marwa Kamal</td>\n",
       "      <td>EGS</td>\n",
       "      <td>CFM</td>\n",
       "      <td>2023-05-07</td>\n",
       "      <td>Agent others</td>\n",
       "      <td>Issue caused by other section</td>\n",
       "      <td>Account modification/service related issue</td>\n",
       "      <td>...</td>\n",
       "      <td>Voice / DEL Normal</td>\n",
       "      <td>Completed</td>\n",
       "      <td>Business Care Staff</td>\n",
       "      <td>No Screen Recording</td>\n",
       "      <td>Complaint Number</td>\n",
       "      <td>2023</td>\n",
       "      <td>Order Porcessing Related</td>\n",
       "      <td>Order - Delay/improper action from Processing ...</td>\n",
       "      <td>May</td>\n",
       "      <td>2023</td>\n",
       "    </tr>\n",
       "    <tr>\n",
       "      <th>4858</th>\n",
       "      <td>-100</td>\n",
       "      <td>rnimje</td>\n",
       "      <td>Rohit Nimje</td>\n",
       "      <td>Syed Ahad</td>\n",
       "      <td>CNX</td>\n",
       "      <td>Channel NPS</td>\n",
       "      <td>2023-05-08</td>\n",
       "      <td>Customer Related</td>\n",
       "      <td>Customer Related</td>\n",
       "      <td>Customer own understanding and perception</td>\n",
       "      <td>...</td>\n",
       "      <td>GSM Post Paid</td>\n",
       "      <td>Completed</td>\n",
       "      <td>Business Care Staff</td>\n",
       "      <td>YES</td>\n",
       "      <td>Complaint Number</td>\n",
       "      <td>2023</td>\n",
       "      <td>Customer Related</td>\n",
       "      <td>Customer Related</td>\n",
       "      <td>May</td>\n",
       "      <td>2023</td>\n",
       "    </tr>\n",
       "    <tr>\n",
       "      <th>4860</th>\n",
       "      <td>-100</td>\n",
       "      <td>laswaminathan</td>\n",
       "      <td>Latha Ramakrishnan Swaminathan</td>\n",
       "      <td>Tara Angelee Tampoc</td>\n",
       "      <td>Ajman</td>\n",
       "      <td>CFM</td>\n",
       "      <td>2023-05-08</td>\n",
       "      <td>Customer Related</td>\n",
       "      <td>Customer Related</td>\n",
       "      <td>Customer own network / Device issue</td>\n",
       "      <td>...</td>\n",
       "      <td>GSM Post Paid</td>\n",
       "      <td>Completed</td>\n",
       "      <td>Business Care Staff</td>\n",
       "      <td>No Screen Recording</td>\n",
       "      <td>Complaint Number</td>\n",
       "      <td>2023</td>\n",
       "      <td>Customer Related</td>\n",
       "      <td>Customer Related</td>\n",
       "      <td>May</td>\n",
       "      <td>2023</td>\n",
       "    </tr>\n",
       "  </tbody>\n",
       "</table>\n",
       "<p>6 rows × 31 columns</p>\n",
       "</div>"
      ],
      "text/plain": [
       "      Csat_Score        User_ID                      Agent_Name  \\\n",
       "4853        -100    gamaibrahim       Fadia Gamal Talat Ibrahim   \n",
       "4854        -100    omneibrahim   Omnia mohamed elsayed ibrahim   \n",
       "4855        -100  laswaminathan  Latha Ramakrishnan Swaminathan   \n",
       "4856        -100     ashfarghal     Karim Ashraf Mabrok Farghal   \n",
       "4858        -100         rnimje                     Rohit Nimje   \n",
       "4860        -100  laswaminathan  Latha Ramakrishnan Swaminathan   \n",
       "\n",
       "             Officer_Name   SITE       Source      EDate        ACPT_Category  \\\n",
       "4853         Yasmin Magdy    EGS  Channel NPS 2023-05-07  Business care Staff   \n",
       "4854        Abeer Ramadan    EGS          CFM 2023-05-07  Business care Staff   \n",
       "4855  Tara Angelee Tampoc  Ajman          CFM 2023-05-07      Process Related   \n",
       "4856          Marwa Kamal    EGS          CFM 2023-05-07         Agent others   \n",
       "4858            Syed Ahad    CNX  Channel NPS 2023-05-08     Customer Related   \n",
       "4860  Tara Angelee Tampoc  Ajman          CFM 2023-05-08     Customer Related   \n",
       "\n",
       "                          ACPT_Type  \\\n",
       "4853         Inbound Agent mistakes   \n",
       "4854         Inbound Agent mistakes   \n",
       "4855                Process Related   \n",
       "4856  Issue caused by other section   \n",
       "4858               Customer Related   \n",
       "4860               Customer Related   \n",
       "\n",
       "                                    ACPT_Subtype  ...             Product  \\\n",
       "4853     providing wrong resolution/wrong action  ...       GSM Post Paid   \n",
       "4854     providing wrong resolution/wrong action  ...       GSM Post Paid   \n",
       "4855                 OKM / smart CIM need update  ...       GSM Post Paid   \n",
       "4856  Account modification/service related issue  ...  Voice / DEL Normal   \n",
       "4858   Customer own understanding and perception  ...       GSM Post Paid   \n",
       "4860         Customer own network / Device issue  ...       GSM Post Paid   \n",
       "\n",
       "     Action_Status       ACPT_Secondary           SCIM_Usage  \\\n",
       "4853     Escalated   Technology Related  No Screen Recording   \n",
       "4854   In Progress   Technology Related  No Screen Recording   \n",
       "4855     Completed   Technology Related  No Screen Recording   \n",
       "4856     Completed  Business Care Staff  No Screen Recording   \n",
       "4858     Completed  Business Care Staff                  YES   \n",
       "4860     Completed  Business Care Staff  No Screen Recording   \n",
       "\n",
       "        Referance_Type Audit Date                           Tag  \\\n",
       "4853  Complaint Number       2023  Business care- Agent Mistake   \n",
       "4854  Complaint Number       2023  Business care- Agent Mistake   \n",
       "4855  Complaint Number       2023               Process Related   \n",
       "4856  Complaint Number       2023      Order Porcessing Related   \n",
       "4858  Complaint Number       2023              Customer Related   \n",
       "4860  Complaint Number       2023              Customer Related   \n",
       "\n",
       "                                                Sub Tag EMonth EYear  \n",
       "4853                Agent wrong resolution/wrong action    May  2023  \n",
       "4854                Agent wrong resolution/wrong action    May  2023  \n",
       "4855                            Business Care processes    May  2023  \n",
       "4856  Order - Delay/improper action from Processing ...    May  2023  \n",
       "4858                                   Customer Related    May  2023  \n",
       "4860                                   Customer Related    May  2023  \n",
       "\n",
       "[6 rows x 31 columns]"
      ]
     },
     "execution_count": 15,
     "metadata": {},
     "output_type": "execute_result"
    }
   ],
   "source": [
    "df_x.head(6)"
   ]
  },
  {
   "cell_type": "code",
   "execution_count": 12,
   "metadata": {},
   "outputs": [
    {
     "name": "stderr",
     "output_type": "stream",
     "text": [
      "C:\\Users\\ahmad\\AppData\\Local\\Temp\\ipykernel_31396\\866687241.py:5: FutureWarning: \n",
      "\n",
      "Passing `palette` without assigning `hue` is deprecated and will be removed in v0.14.0. Assign the `x` variable to `hue` and set `legend=False` for the same effect.\n",
      "\n",
      "  sns.barplot(x='ACPT_Category', y='Csat_Score', data=category_group, palette=\"coolwarm\" )\n"
     ]
    },
    {
     "data": {
      "image/png": "[encoded data removed]",
      "text/plain": [
       "<Figure size 1400x600 with 1 Axes>"
      ]
     },
     "metadata": {},
     "output_type": "display_data"
    }
   ],
   "source": [
    "category_group = df_x.groupby('ACPT_Category')['Csat_Score'].mean().reset_index()\n",
    "\n",
    "    # Plotting the Bar Chart\n",
    "plt.figure(figsize=(14, 6))\n",
    "sns.barplot(x='ACPT_Category', y='Csat_Score', data=category_group, palette=\"coolwarm\" )\n",
    "plt.title('Average Customer Satisfaction Score by ACPT_Category')\n",
    "plt.ylabel('Average Customer Satisfaction Score')\n",
    "plt.xlabel('ACPT_Category')\n",
    "plt.show()"
   ]
  },
  {
   "cell_type": "code",
   "execution_count": 26,
   "metadata": {},
   "outputs": [
    {
     "data": {
      "application/vnd.plotly.v1+json": {
       "config": {
        "plotlyServerURL": "https://plot.ly"
       },
       "data": [
        {
         "alignmentgroup": "True",
         "hovertemplate": "Count=%{x}<br>Csat_Score=%{marker.color}<extra></extra>",
         "legendgroup": "",
         "marker": {
          "color": [
           -100,
           1,
           2
          ],
          "coloraxis": "coloraxis",
          "pattern": {
           "shape": ""
          }
         },
         "name": "",
         "offsetgroup": "",
         "orientation": "v",
         "showlegend": false,
         "textposition": "auto",
         "type": "bar",
         "x": [
          9,
          33,
          4
         ],
         "xaxis": "x",
         "y": [
          -100,
          1,
          2
         ],
         "yaxis": "y"
        }
       ],
       "layout": {
        "barmode": "relative",
        "coloraxis": {
         "colorbar": {
          "title": {
           "text": "Csat_Score"
          }
         },
         "colorscale": [
          [
           0,
           "#440154"
          ],
          [
           0.1111111111111111,
           "#482878"
          ],
          [
           0.2222222222222222,
           "#3e4989"
          ],
          [
           0.3333333333333333,
           "#31688e"
          ],
          [
           0.4444444444444444,
           "#26828e"
          ],
          [
           0.5555555555555556,
           "#1f9e89"
          ],
          [
           0.6666666666666666,
           "#35b779"
          ],
          [
           0.7777777777777778,
           "#6ece58"
          ],
          [
           0.8888888888888888,
           "#b5de2b"
          ],
          [
           1,
           "#fde725"
          ]
         ]
        },
        "legend": {
         "tracegroupgap": 0
        },
        "template": {
         "data": {
          "bar": [
           {
            "error_x": {
             "color": "#2a3f5f"
            },
            "error_y": {
             "color": "#2a3f5f"
            },
            "marker": {
             "line": {
              "color": "#E5ECF6",
              "width": 0.5
             },
             "pattern": {
              "fillmode": "overlay",
              "size": 10,
              "solidity": 0.2
             }
            },
            "type": "bar"
           }
          ],
          "barpolar": [
           {
            "marker": {
             "line": {
              "color": "#E5ECF6",
              "width": 0.5
             },
             "pattern": {
              "fillmode": "overlay",
              "size": 10,
              "solidity": 0.2
             }
            },
            "type": "barpolar"
           }
          ],
          "carpet": [
           {
            "aaxis": {
             "endlinecolor": "#2a3f5f",
             "gridcolor": "white",
             "linecolor": "white",
             "minorgridcolor": "white",
             "startlinecolor": "#2a3f5f"
            },
            "baxis": {
             "endlinecolor": "#2a3f5f",
             "gridcolor": "white",
             "linecolor": "white",
             "minorgridcolor": "white",
             "startlinecolor": "#2a3f5f"
            },
            "type": "carpet"
           }
          ],
          "choropleth": [
           {
            "colorbar": {
             "outlinewidth": 0,
             "ticks": ""
            },
            "type": "choropleth"
           }
          ],
          "contour": [
           {
            "colorbar": {
             "outlinewidth": 0,
             "ticks": ""
            },
            "colorscale": [
             [
              0,
              "#0d0887"
             ],
             [
              0.1111111111111111,
              "#46039f"
             ],
             [
              0.2222222222222222,
              "#7201a8"
             ],
             [
              0.3333333333333333,
              "#9c179e"
             ],
             [
              0.4444444444444444,
              "#bd3786"
             ],
             [
              0.5555555555555556,
              "#d8576b"
             ],
             [
              0.6666666666666666,
              "#ed7953"
             ],
             [
              0.7777777777777778,
              "#fb9f3a"
             ],
             [
              0.8888888888888888,
              "#fdca26"
             ],
             [
              1,
              "#f0f921"
             ]
            ],
            "type": "contour"
           }
          ],
          "contourcarpet": [
           {
            "colorbar": {
             "outlinewidth": 0,
             "ticks": ""
            },
            "type": "contourcarpet"
           }
          ],
          "heatmap": [
           {
            "colorbar": {
             "outlinewidth": 0,
             "ticks": ""
            },
            "colorscale": [
             [
              0,
              "#0d0887"
             ],
             [
              0.1111111111111111,
              "#46039f"
             ],
             [
              0.2222222222222222,
              "#7201a8"
             ],
             [
              0.3333333333333333,
              "#9c179e"
             ],
             [
              0.4444444444444444,
              "#bd3786"
             ],
             [
              0.5555555555555556,
              "#d8576b"
             ],
             [
              0.6666666666666666,
              "#ed7953"
             ],
             [
              0.7777777777777778,
              "#fb9f3a"
             ],
             [
              0.8888888888888888,
              "#fdca26"
             ],
             [
              1,
              "#f0f921"
             ]
            ],
            "type": "heatmap"
           }
          ],
          "heatmapgl": [
           {
            "colorbar": {
             "outlinewidth": 0,
             "ticks": ""
            },
            "colorscale": [
             [
              0,
              "#0d0887"
             ],
             [
              0.1111111111111111,
              "#46039f"
             ],
             [
              0.2222222222222222,
              "#7201a8"
             ],
             [
              0.3333333333333333,
              "#9c179e"
             ],
             [
              0.4444444444444444,
              "#bd3786"
             ],
             [
              0.5555555555555556,
              "#d8576b"
             ],
             [
              0.6666666666666666,
              "#ed7953"
             ],
             [
              0.7777777777777778,
              "#fb9f3a"
             ],
             [
              0.8888888888888888,
              "#fdca26"
             ],
             [
              1,
              "#f0f921"
             ]
            ],
            "type": "heatmapgl"
           }
          ],
          "histogram": [
           {
            "marker": {
             "pattern": {
              "fillmode": "overlay",
              "size": 10,
              "solidity": 0.2
             }
            },
            "type": "histogram"
           }
          ],
          "histogram2d": [
           {
            "colorbar": {
             "outlinewidth": 0,
             "ticks": ""
            },
            "colorscale": [
             [
              0,
              "#0d0887"
             ],
             [
              0.1111111111111111,
              "#46039f"
             ],
             [
              0.2222222222222222,
              "#7201a8"
             ],
             [
              0.3333333333333333,
              "#9c179e"
             ],
             [
              0.4444444444444444,
              "#bd3786"
             ],
             [
              0.5555555555555556,
              "#d8576b"
             ],
             [
              0.6666666666666666,
              "#ed7953"
             ],
             [
              0.7777777777777778,
              "#fb9f3a"
             ],
             [
              0.8888888888888888,
              "#fdca26"
             ],
             [
              1,
              "#f0f921"
             ]
            ],
            "type": "histogram2d"
           }
          ],
          "histogram2dcontour": [
           {
            "colorbar": {
             "outlinewidth": 0,
             "ticks": ""
            },
            "colorscale": [
             [
              0,
              "#0d0887"
             ],
             [
              0.1111111111111111,
              "#46039f"
             ],
             [
              0.2222222222222222,
              "#7201a8"
             ],
             [
              0.3333333333333333,
              "#9c179e"
             ],
             [
              0.4444444444444444,
              "#bd3786"
             ],
             [
              0.5555555555555556,
              "#d8576b"
             ],
             [
              0.6666666666666666,
              "#ed7953"
             ],
             [
              0.7777777777777778,
              "#fb9f3a"
             ],
             [
              0.8888888888888888,
              "#fdca26"
             ],
             [
              1,
              "#f0f921"
             ]
            ],
            "type": "histogram2dcontour"
           }
          ],
          "mesh3d": [
           {
            "colorbar": {
             "outlinewidth": 0,
             "ticks": ""
            },
            "type": "mesh3d"
           }
          ],
          "parcoords": [
           {
            "line": {
             "colorbar": {
              "outlinewidth": 0,
              "ticks": ""
             }
            },
            "type": "parcoords"
           }
          ],
          "pie": [
           {
            "automargin": true,
            "type": "pie"
           }
          ],
          "scatter": [
           {
            "fillpattern": {
             "fillmode": "overlay",
             "size": 10,
             "solidity": 0.2
            },
            "type": "scatter"
           }
          ],
          "scatter3d": [
           {
            "line": {
             "colorbar": {
              "outlinewidth": 0,
              "ticks": ""
             }
            },
            "marker": {
             "colorbar": {
              "outlinewidth": 0,
              "ticks": ""
             }
            },
            "type": "scatter3d"
           }
          ],
          "scattercarpet": [
           {
            "marker": {
             "colorbar": {
              "outlinewidth": 0,
              "ticks": ""
             }
            },
            "type": "scattercarpet"
           }
          ],
          "scattergeo": [
           {
            "marker": {
             "colorbar": {
              "outlinewidth": 0,
              "ticks": ""
             }
            },
            "type": "scattergeo"
           }
          ],
          "scattergl": [
           {
            "marker": {
             "colorbar": {
              "outlinewidth": 0,
              "ticks": ""
             }
            },
            "type": "scattergl"
           }
          ],
          "scattermapbox": [
           {
            "marker": {
             "colorbar": {
              "outlinewidth": 0,
              "ticks": ""
             }
            },
            "type": "scattermapbox"
           }
          ],
          "scatterpolar": [
           {
            "marker": {
             "colorbar": {
              "outlinewidth": 0,
              "ticks": ""
             }
            },
            "type": "scatterpolar"
           }
          ],
          "scatterpolargl": [
           {
            "marker": {
             "colorbar": {
              "outlinewidth": 0,
              "ticks": ""
             }
            },
            "type": "scatterpolargl"
           }
          ],
          "scatterternary": [
           {
            "marker": {
             "colorbar": {
              "outlinewidth": 0,
              "ticks": ""
             }
            },
            "type": "scatterternary"
           }
          ],
          "surface": [
           {
            "colorbar": {
             "outlinewidth": 0,
             "ticks": ""
            },
            "colorscale": [
             [
              0,
              "#0d0887"
             ],
             [
              0.1111111111111111,
              "#46039f"
             ],
             [
              0.2222222222222222,
              "#7201a8"
             ],
             [
              0.3333333333333333,
              "#9c179e"
             ],
             [
              0.4444444444444444,
              "#bd3786"
             ],
             [
              0.5555555555555556,
              "#d8576b"
             ],
             [
              0.6666666666666666,
              "#ed7953"
             ],
             [
              0.7777777777777778,
              "#fb9f3a"
             ],
             [
              0.8888888888888888,
              "#fdca26"
             ],
             [
              1,
              "#f0f921"
             ]
            ],
            "type": "surface"
           }
          ],
          "table": [
           {
            "cells": {
             "fill": {
              "color": "#EBF0F8"
             },
             "line": {
              "color": "white"
             }
            },
            "header": {
             "fill": {
              "color": "#C8D4E3"
             },
             "line": {
              "color": "white"
             }
            },
            "type": "table"
           }
          ]
         },
         "layout": {
          "annotationdefaults": {
           "arrowcolor": "#2a3f5f",
           "arrowhead": 0,
           "arrowwidth": 1
          },
          "autotypenumbers": "strict",
          "coloraxis": {
           "colorbar": {
            "outlinewidth": 0,
            "ticks": ""
           }
          },
          "colorscale": {
           "diverging": [
            [
             0,
             "#8e0152"
            ],
            [
             0.1,
             "#c51b7d"
            ],
            [
             0.2,
             "#de77ae"
            ],
            [
             0.3,
             "#f1b6da"
            ],
            [
             0.4,
             "#fde0ef"
            ],
            [
             0.5,
             "#f7f7f7"
            ],
            [
             0.6,
             "#e6f5d0"
            ],
            [
             0.7,
             "#b8e186"
            ],
            [
             0.8,
             "#7fbc41"
            ],
            [
             0.9,
             "#4d9221"
            ],
            [
             1,
             "#276419"
            ]
           ],
           "sequential": [
            [
             0,
             "#0d0887"
            ],
            [
             0.1111111111111111,
             "#46039f"
            ],
            [
             0.2222222222222222,
             "#7201a8"
            ],
            [
             0.3333333333333333,
             "#9c179e"
            ],
            [
             0.4444444444444444,
             "#bd3786"
            ],
            [
             0.5555555555555556,
             "#d8576b"
            ],
            [
             0.6666666666666666,
             "#ed7953"
            ],
            [
             0.7777777777777778,
             "#fb9f3a"
            ],
            [
             0.8888888888888888,
             "#fdca26"
            ],
            [
             1,
             "#f0f921"
            ]
           ],
           "sequentialminus": [
            [
             0,
             "#0d0887"
            ],
            [
             0.1111111111111111,
             "#46039f"
            ],
            [
             0.2222222222222222,
             "#7201a8"
            ],
            [
             0.3333333333333333,
             "#9c179e"
            ],
            [
             0.4444444444444444,
             "#bd3786"
            ],
            [
             0.5555555555555556,
             "#d8576b"
            ],
            [
             0.6666666666666666,
             "#ed7953"
            ],
            [
             0.7777777777777778,
             "#fb9f3a"
            ],
            [
             0.8888888888888888,
             "#fdca26"
            ],
            [
             1,
             "#f0f921"
            ]
           ]
          },
          "colorway": [
           "#636efa",
           "#EF553B",
           "#00cc96",
           "#ab63fa",
           "#FFA15A",
           "#19d3f3",
           "#FF6692",
           "#B6E880",
           "#FF97FF",
           "#FECB52"
          ],
          "font": {
           "color": "#2a3f5f"
          },
          "geo": {
           "bgcolor": "white",
           "lakecolor": "white",
           "landcolor": "#E5ECF6",
           "showlakes": true,
           "showland": true,
           "subunitcolor": "white"
          },
          "hoverlabel": {
           "align": "left"
          },
          "hovermode": "closest",
          "mapbox": {
           "style": "light"
          },
          "paper_bgcolor": "white",
          "plot_bgcolor": "#E5ECF6",
          "polar": {
           "angularaxis": {
            "gridcolor": "white",
            "linecolor": "white",
            "ticks": ""
           },
           "bgcolor": "#E5ECF6",
           "radialaxis": {
            "gridcolor": "white",
            "linecolor": "white",
            "ticks": ""
           }
          },
          "scene": {
           "xaxis": {
            "backgroundcolor": "#E5ECF6",
            "gridcolor": "white",
            "gridwidth": 2,
            "linecolor": "white",
            "showbackground": true,
            "ticks": "",
            "zerolinecolor": "white"
           },
           "yaxis": {
            "backgroundcolor": "#E5ECF6",
            "gridcolor": "white",
            "gridwidth": 2,
            "linecolor": "white",
            "showbackground": true,
            "ticks": "",
            "zerolinecolor": "white"
           },
           "zaxis": {
            "backgroundcolor": "#E5ECF6",
            "gridcolor": "white",
            "gridwidth": 2,
            "linecolor": "white",
            "showbackground": true,
            "ticks": "",
            "zerolinecolor": "white"
           }
          },
          "shapedefaults": {
           "line": {
            "color": "#2a3f5f"
           }
          },
          "ternary": {
           "aaxis": {
            "gridcolor": "white",
            "linecolor": "white",
            "ticks": ""
           },
           "baxis": {
            "gridcolor": "white",
            "linecolor": "white",
            "ticks": ""
           },
           "bgcolor": "#E5ECF6",
           "caxis": {
            "gridcolor": "white",
            "linecolor": "white",
            "ticks": ""
           }
          },
          "title": {
           "x": 0.05
          },
          "xaxis": {
           "automargin": true,
           "gridcolor": "white",
           "linecolor": "white",
           "ticks": "",
           "title": {
            "standoff": 15
           },
           "zerolinecolor": "white",
           "zerolinewidth": 2
          },
          "yaxis": {
           "automargin": true,
           "gridcolor": "white",
           "linecolor": "white",
           "ticks": "",
           "title": {
            "standoff": 15
           },
           "zerolinecolor": "white",
           "zerolinewidth": 2
          }
         }
        },
        "title": {
         "text": "Average Customer Satisfaction Score",
         "x": 0.5
        },
        "xaxis": {
         "anchor": "y",
         "domain": [
          0,
          1
         ],
         "title": {
          "text": "Count"
         }
        },
        "yaxis": {
         "anchor": "x",
         "domain": [
          0,
          1
         ],
         "title": {
          "text": "Csat_Score"
         }
        }
       }
      }
     },
     "metadata": {},
     "output_type": "display_data"
    }
   ],
   "source": [
    "df_Site_grouped = df.groupby(['Csat_Score']).size().reset_index(name='Count')\n",
    "fig = px.bar( df_Site_grouped, x='Count', y='Csat_Score', color='Csat_Score',\n",
    "        title='Average Customer Satisfaction Score',\n",
    "        labels={'Customer_Satisfaction': 'Average Satisfaction Score'}, color_continuous_scale='Viridis'\n",
    "    )\n",
    "fig.update_layout(title_x=0.5)\n",
    "fig.show()"
   ]
  }
 ],
 "metadata": {
  "kernelspec": {
   "display_name": "business_care",
   "language": "python",
   "name": "python3"
  },
  "language_info": {
   "codemirror_mode": {
    "name": "ipython",
    "version": 3
   },
   "file_extension": ".py",
   "mimetype": "text/x-python",
   "name": "python",
   "nbconvert_exporter": "python",
   "pygments_lexer": "ipython3",
   "version": "3.12.7"
  }
 },
 "nbformat": 4,
 "nbformat_minor": 2
}
